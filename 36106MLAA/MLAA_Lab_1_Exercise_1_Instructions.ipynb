{
  "cells": [
    {
      "cell_type": "markdown",
      "metadata": {
        "id": "view-in-github",
        "colab_type": "text"
      },
      "source": [
        "<a href=\"https://colab.research.google.com/github/smonto43/UTS_MDSI/blob/main/36106MLAA/MLAA_Lab_1_Exercise_1_Instructions.ipynb\" target=\"_parent\"><img src=\"https://colab.research.google.com/assets/colab-badge.svg\" alt=\"Open In Colab\"/></a>"
      ]
    },
    {
      "cell_type": "markdown",
      "metadata": {
        "id": "uQ6wc2HE0pke"
      },
      "source": [
        "# **Lab 1: Linear Regression**\n",
        "\n",
        "During the first lecture, you have been introduced to Univariate and Multivariate Linear Regression. In this lab, we will see how to train such models using sklearn.\n"
      ]
    },
    {
      "cell_type": "markdown",
      "metadata": {
        "id": "tQgxLRrvjiJb"
      },
      "source": [
        "## Exercise 1: Simulate the learning process of Univariate Linear Regression\n",
        "\n",
        "We will manually fit an univariate linear regression model to predict a given target variable (salary) as closely as possible using the provided feature (years of experience).\n",
        "\n",
        "We will be using a dataset avaialeble here: https://raw.githubusercontent.com/aso-uts/labs_datasets/main/36106-mlaa/lab01/ex1/salary_data.csv\n",
        "\n",
        "The steps are:\n",
        "1.   Load data\n",
        "2.   Explore the dataset\n",
        "3.   Make predictions with Default Parameters for a Linear Regression\n",
        "4.   Update parameters"
      ]
    },
    {
      "cell_type": "code",
      "execution_count": null,
      "metadata": {
        "id": "TIVtHcnnTx_E",
        "outputId": "a80b13f9-8ed3-485d-a568-e480eae003cf",
        "colab": {
          "base_uri": "https://localhost:8080/"
        }
      },
      "outputs": [
        {
          "output_type": "stream",
          "name": "stdout",
          "text": [
            "Collecting pandas==2.1.1 (from -r https://raw.githubusercontent.com/aso-uts/labs_datasets/main/36106-mlaa/requirements.txt (line 1))\n",
            "  Downloading pandas-2.1.1-cp310-cp310-manylinux_2_17_x86_64.manylinux2014_x86_64.whl (12.3 MB)\n",
            "\u001b[2K     \u001b[90m━━━━━━━━━━━━━━━━━━━━━━━━━━━━━━━━━━━━━━━━\u001b[0m \u001b[32m12.3/12.3 MB\u001b[0m \u001b[31m46.5 MB/s\u001b[0m eta \u001b[36m0:00:00\u001b[0m\n",
            "\u001b[?25hRequirement already satisfied: scikit-learn==1.2.2 in /usr/local/lib/python3.10/dist-packages (from -r https://raw.githubusercontent.com/aso-uts/labs_datasets/main/36106-mlaa/requirements.txt (line 2)) (1.2.2)\n",
            "Requirement already satisfied: altair==4.2.2 in /usr/local/lib/python3.10/dist-packages (from -r https://raw.githubusercontent.com/aso-uts/labs_datasets/main/36106-mlaa/requirements.txt (line 3)) (4.2.2)\n",
            "Requirement already satisfied: numpy>=1.22.4 in /usr/local/lib/python3.10/dist-packages (from pandas==2.1.1->-r https://raw.githubusercontent.com/aso-uts/labs_datasets/main/36106-mlaa/requirements.txt (line 1)) (1.25.2)\n",
            "Requirement already satisfied: python-dateutil>=2.8.2 in /usr/local/lib/python3.10/dist-packages (from pandas==2.1.1->-r https://raw.githubusercontent.com/aso-uts/labs_datasets/main/36106-mlaa/requirements.txt (line 1)) (2.8.2)\n",
            "Requirement already satisfied: pytz>=2020.1 in /usr/local/lib/python3.10/dist-packages (from pandas==2.1.1->-r https://raw.githubusercontent.com/aso-uts/labs_datasets/main/36106-mlaa/requirements.txt (line 1)) (2023.4)\n",
            "Collecting tzdata>=2022.1 (from pandas==2.1.1->-r https://raw.githubusercontent.com/aso-uts/labs_datasets/main/36106-mlaa/requirements.txt (line 1))\n",
            "  Downloading tzdata-2024.1-py2.py3-none-any.whl (345 kB)\n",
            "\u001b[2K     \u001b[90m━━━━━━━━━━━━━━━━━━━━━━━━━━━━━━━━━━━━━━━━\u001b[0m \u001b[32m345.4/345.4 kB\u001b[0m \u001b[31m41.0 MB/s\u001b[0m eta \u001b[36m0:00:00\u001b[0m\n",
            "\u001b[?25hRequirement already satisfied: scipy>=1.3.2 in /usr/local/lib/python3.10/dist-packages (from scikit-learn==1.2.2->-r https://raw.githubusercontent.com/aso-uts/labs_datasets/main/36106-mlaa/requirements.txt (line 2)) (1.11.4)\n",
            "Requirement already satisfied: joblib>=1.1.1 in /usr/local/lib/python3.10/dist-packages (from scikit-learn==1.2.2->-r https://raw.githubusercontent.com/aso-uts/labs_datasets/main/36106-mlaa/requirements.txt (line 2)) (1.3.2)\n",
            "Requirement already satisfied: threadpoolctl>=2.0.0 in /usr/local/lib/python3.10/dist-packages (from scikit-learn==1.2.2->-r https://raw.githubusercontent.com/aso-uts/labs_datasets/main/36106-mlaa/requirements.txt (line 2)) (3.3.0)\n",
            "Requirement already satisfied: entrypoints in /usr/local/lib/python3.10/dist-packages (from altair==4.2.2->-r https://raw.githubusercontent.com/aso-uts/labs_datasets/main/36106-mlaa/requirements.txt (line 3)) (0.4)\n",
            "Requirement already satisfied: jinja2 in /usr/local/lib/python3.10/dist-packages (from altair==4.2.2->-r https://raw.githubusercontent.com/aso-uts/labs_datasets/main/36106-mlaa/requirements.txt (line 3)) (3.1.3)\n",
            "Requirement already satisfied: jsonschema>=3.0 in /usr/local/lib/python3.10/dist-packages (from altair==4.2.2->-r https://raw.githubusercontent.com/aso-uts/labs_datasets/main/36106-mlaa/requirements.txt (line 3)) (4.19.2)\n",
            "Requirement already satisfied: toolz in /usr/local/lib/python3.10/dist-packages (from altair==4.2.2->-r https://raw.githubusercontent.com/aso-uts/labs_datasets/main/36106-mlaa/requirements.txt (line 3)) (0.12.1)\n",
            "Requirement already satisfied: attrs>=22.2.0 in /usr/local/lib/python3.10/dist-packages (from jsonschema>=3.0->altair==4.2.2->-r https://raw.githubusercontent.com/aso-uts/labs_datasets/main/36106-mlaa/requirements.txt (line 3)) (23.2.0)\n",
            "Requirement already satisfied: jsonschema-specifications>=2023.03.6 in /usr/local/lib/python3.10/dist-packages (from jsonschema>=3.0->altair==4.2.2->-r https://raw.githubusercontent.com/aso-uts/labs_datasets/main/36106-mlaa/requirements.txt (line 3)) (2023.12.1)\n",
            "Requirement already satisfied: referencing>=0.28.4 in /usr/local/lib/python3.10/dist-packages (from jsonschema>=3.0->altair==4.2.2->-r https://raw.githubusercontent.com/aso-uts/labs_datasets/main/36106-mlaa/requirements.txt (line 3)) (0.33.0)\n",
            "Requirement already satisfied: rpds-py>=0.7.1 in /usr/local/lib/python3.10/dist-packages (from jsonschema>=3.0->altair==4.2.2->-r https://raw.githubusercontent.com/aso-uts/labs_datasets/main/36106-mlaa/requirements.txt (line 3)) (0.18.0)\n",
            "Requirement already satisfied: six>=1.5 in /usr/local/lib/python3.10/dist-packages (from python-dateutil>=2.8.2->pandas==2.1.1->-r https://raw.githubusercontent.com/aso-uts/labs_datasets/main/36106-mlaa/requirements.txt (line 1)) (1.16.0)\n",
            "Requirement already satisfied: MarkupSafe>=2.0 in /usr/local/lib/python3.10/dist-packages (from jinja2->altair==4.2.2->-r https://raw.githubusercontent.com/aso-uts/labs_datasets/main/36106-mlaa/requirements.txt (line 3)) (2.1.5)\n",
            "Installing collected packages: tzdata, pandas\n",
            "  Attempting uninstall: pandas\n",
            "    Found existing installation: pandas 1.5.3\n",
            "    Uninstalling pandas-1.5.3:\n",
            "      Successfully uninstalled pandas-1.5.3\n",
            "\u001b[31mERROR: pip's dependency resolver does not currently take into account all the packages that are installed. This behaviour is the source of the following dependency conflicts.\n",
            "google-colab 1.0.0 requires pandas==1.5.3, but you have pandas 2.1.1 which is incompatible.\u001b[0m\u001b[31m\n",
            "\u001b[0mSuccessfully installed pandas-2.1.1 tzdata-2024.1\n"
          ]
        }
      ],
      "source": [
        "! pip install -r https://raw.githubusercontent.com/aso-uts/labs_datasets/main/36106-mlaa/requirements.txt"
      ]
    },
    {
      "cell_type": "markdown",
      "metadata": {
        "id": "smh_LhVjIg9s"
      },
      "source": [
        "### 1. Load Data"
      ]
    },
    {
      "cell_type": "markdown",
      "metadata": {
        "id": "thY2-yQ4g8ha"
      },
      "source": [
        "**[1.1]** Import the pandas, numpy and altair packages"
      ]
    },
    {
      "cell_type": "code",
      "execution_count": null,
      "metadata": {
        "id": "xSWZLIU7aJif"
      },
      "outputs": [],
      "source": [
        "import pandas as pd\n",
        "import numpy as np\n",
        "import altair as alt"
      ]
    },
    {
      "cell_type": "markdown",
      "metadata": {
        "id": "xVtPGrzJhHrs"
      },
      "source": [
        "**[1.2]** Load the dataset"
      ]
    },
    {
      "cell_type": "code",
      "execution_count": null,
      "metadata": {
        "id": "U13hy14XhnBv"
      },
      "outputs": [],
      "source": [
        "data = pd.read_csv('https://raw.githubusercontent.com/aso-uts/labs_datasets/main/36106-mlaa/lab01/ex1/salary_data.csv')"
      ]
    },
    {
      "cell_type": "markdown",
      "metadata": {
        "id": "9PF49Pawonqp"
      },
      "source": [
        "**[1.3]** Display the dataset"
      ]
    },
    {
      "cell_type": "code",
      "execution_count": null,
      "metadata": {
        "colab": {
          "base_uri": "https://localhost:8080/",
          "height": 990
        },
        "id": "xQfwNq03hr53",
        "outputId": "87cec733-529d-4b7e-ee02-86a1f72bb23c"
      },
      "outputs": [
        {
          "output_type": "execute_result",
          "data": {
            "text/plain": [
              "    YearsExperience    Salary\n",
              "0               1.1   39343.0\n",
              "1               1.3   46205.0\n",
              "2               1.5   37731.0\n",
              "3               2.0   43525.0\n",
              "4               2.2   39891.0\n",
              "5               2.9   56642.0\n",
              "6               3.0   60150.0\n",
              "7               3.2   54445.0\n",
              "8               3.2   64445.0\n",
              "9               3.7   57189.0\n",
              "10              3.9   63218.0\n",
              "11              4.0   55794.0\n",
              "12              4.0   56957.0\n",
              "13              4.1   57081.0\n",
              "14              4.5   61111.0\n",
              "15              4.9   67938.0\n",
              "16              5.1   66029.0\n",
              "17              5.3   83088.0\n",
              "18              5.9   81363.0\n",
              "19              6.0   93940.0\n",
              "20              6.8   91738.0\n",
              "21              7.1   98273.0\n",
              "22              7.9  101302.0\n",
              "23              8.2  113812.0\n",
              "24              8.7  109431.0\n",
              "25              9.0  105582.0\n",
              "26              9.5  116969.0\n",
              "27              9.6  112635.0\n",
              "28             10.3  122391.0\n",
              "29             10.5  121872.0"
            ],
            "text/html": [
              "\n",
              "  <div id=\"df-c0be1b25-c48e-4e84-b729-2f9a53493026\" class=\"colab-df-container\">\n",
              "    <div>\n",
              "<style scoped>\n",
              "    .dataframe tbody tr th:only-of-type {\n",
              "        vertical-align: middle;\n",
              "    }\n",
              "\n",
              "    .dataframe tbody tr th {\n",
              "        vertical-align: top;\n",
              "    }\n",
              "\n",
              "    .dataframe thead th {\n",
              "        text-align: right;\n",
              "    }\n",
              "</style>\n",
              "<table border=\"1\" class=\"dataframe\">\n",
              "  <thead>\n",
              "    <tr style=\"text-align: right;\">\n",
              "      <th></th>\n",
              "      <th>YearsExperience</th>\n",
              "      <th>Salary</th>\n",
              "    </tr>\n",
              "  </thead>\n",
              "  <tbody>\n",
              "    <tr>\n",
              "      <th>0</th>\n",
              "      <td>1.1</td>\n",
              "      <td>39343.0</td>\n",
              "    </tr>\n",
              "    <tr>\n",
              "      <th>1</th>\n",
              "      <td>1.3</td>\n",
              "      <td>46205.0</td>\n",
              "    </tr>\n",
              "    <tr>\n",
              "      <th>2</th>\n",
              "      <td>1.5</td>\n",
              "      <td>37731.0</td>\n",
              "    </tr>\n",
              "    <tr>\n",
              "      <th>3</th>\n",
              "      <td>2.0</td>\n",
              "      <td>43525.0</td>\n",
              "    </tr>\n",
              "    <tr>\n",
              "      <th>4</th>\n",
              "      <td>2.2</td>\n",
              "      <td>39891.0</td>\n",
              "    </tr>\n",
              "    <tr>\n",
              "      <th>5</th>\n",
              "      <td>2.9</td>\n",
              "      <td>56642.0</td>\n",
              "    </tr>\n",
              "    <tr>\n",
              "      <th>6</th>\n",
              "      <td>3.0</td>\n",
              "      <td>60150.0</td>\n",
              "    </tr>\n",
              "    <tr>\n",
              "      <th>7</th>\n",
              "      <td>3.2</td>\n",
              "      <td>54445.0</td>\n",
              "    </tr>\n",
              "    <tr>\n",
              "      <th>8</th>\n",
              "      <td>3.2</td>\n",
              "      <td>64445.0</td>\n",
              "    </tr>\n",
              "    <tr>\n",
              "      <th>9</th>\n",
              "      <td>3.7</td>\n",
              "      <td>57189.0</td>\n",
              "    </tr>\n",
              "    <tr>\n",
              "      <th>10</th>\n",
              "      <td>3.9</td>\n",
              "      <td>63218.0</td>\n",
              "    </tr>\n",
              "    <tr>\n",
              "      <th>11</th>\n",
              "      <td>4.0</td>\n",
              "      <td>55794.0</td>\n",
              "    </tr>\n",
              "    <tr>\n",
              "      <th>12</th>\n",
              "      <td>4.0</td>\n",
              "      <td>56957.0</td>\n",
              "    </tr>\n",
              "    <tr>\n",
              "      <th>13</th>\n",
              "      <td>4.1</td>\n",
              "      <td>57081.0</td>\n",
              "    </tr>\n",
              "    <tr>\n",
              "      <th>14</th>\n",
              "      <td>4.5</td>\n",
              "      <td>61111.0</td>\n",
              "    </tr>\n",
              "    <tr>\n",
              "      <th>15</th>\n",
              "      <td>4.9</td>\n",
              "      <td>67938.0</td>\n",
              "    </tr>\n",
              "    <tr>\n",
              "      <th>16</th>\n",
              "      <td>5.1</td>\n",
              "      <td>66029.0</td>\n",
              "    </tr>\n",
              "    <tr>\n",
              "      <th>17</th>\n",
              "      <td>5.3</td>\n",
              "      <td>83088.0</td>\n",
              "    </tr>\n",
              "    <tr>\n",
              "      <th>18</th>\n",
              "      <td>5.9</td>\n",
              "      <td>81363.0</td>\n",
              "    </tr>\n",
              "    <tr>\n",
              "      <th>19</th>\n",
              "      <td>6.0</td>\n",
              "      <td>93940.0</td>\n",
              "    </tr>\n",
              "    <tr>\n",
              "      <th>20</th>\n",
              "      <td>6.8</td>\n",
              "      <td>91738.0</td>\n",
              "    </tr>\n",
              "    <tr>\n",
              "      <th>21</th>\n",
              "      <td>7.1</td>\n",
              "      <td>98273.0</td>\n",
              "    </tr>\n",
              "    <tr>\n",
              "      <th>22</th>\n",
              "      <td>7.9</td>\n",
              "      <td>101302.0</td>\n",
              "    </tr>\n",
              "    <tr>\n",
              "      <th>23</th>\n",
              "      <td>8.2</td>\n",
              "      <td>113812.0</td>\n",
              "    </tr>\n",
              "    <tr>\n",
              "      <th>24</th>\n",
              "      <td>8.7</td>\n",
              "      <td>109431.0</td>\n",
              "    </tr>\n",
              "    <tr>\n",
              "      <th>25</th>\n",
              "      <td>9.0</td>\n",
              "      <td>105582.0</td>\n",
              "    </tr>\n",
              "    <tr>\n",
              "      <th>26</th>\n",
              "      <td>9.5</td>\n",
              "      <td>116969.0</td>\n",
              "    </tr>\n",
              "    <tr>\n",
              "      <th>27</th>\n",
              "      <td>9.6</td>\n",
              "      <td>112635.0</td>\n",
              "    </tr>\n",
              "    <tr>\n",
              "      <th>28</th>\n",
              "      <td>10.3</td>\n",
              "      <td>122391.0</td>\n",
              "    </tr>\n",
              "    <tr>\n",
              "      <th>29</th>\n",
              "      <td>10.5</td>\n",
              "      <td>121872.0</td>\n",
              "    </tr>\n",
              "  </tbody>\n",
              "</table>\n",
              "</div>\n",
              "    <div class=\"colab-df-buttons\">\n",
              "\n",
              "  <div class=\"colab-df-container\">\n",
              "    <button class=\"colab-df-convert\" onclick=\"convertToInteractive('df-c0be1b25-c48e-4e84-b729-2f9a53493026')\"\n",
              "            title=\"Convert this dataframe to an interactive table.\"\n",
              "            style=\"display:none;\">\n",
              "\n",
              "  <svg xmlns=\"http://www.w3.org/2000/svg\" height=\"24px\" viewBox=\"0 -960 960 960\">\n",
              "    <path d=\"M120-120v-720h720v720H120Zm60-500h600v-160H180v160Zm220 220h160v-160H400v160Zm0 220h160v-160H400v160ZM180-400h160v-160H180v160Zm440 0h160v-160H620v160ZM180-180h160v-160H180v160Zm440 0h160v-160H620v160Z\"/>\n",
              "  </svg>\n",
              "    </button>\n",
              "\n",
              "  <style>\n",
              "    .colab-df-container {\n",
              "      display:flex;\n",
              "      gap: 12px;\n",
              "    }\n",
              "\n",
              "    .colab-df-convert {\n",
              "      background-color: #E8F0FE;\n",
              "      border: none;\n",
              "      border-radius: 50%;\n",
              "      cursor: pointer;\n",
              "      display: none;\n",
              "      fill: #1967D2;\n",
              "      height: 32px;\n",
              "      padding: 0 0 0 0;\n",
              "      width: 32px;\n",
              "    }\n",
              "\n",
              "    .colab-df-convert:hover {\n",
              "      background-color: #E2EBFA;\n",
              "      box-shadow: 0px 1px 2px rgba(60, 64, 67, 0.3), 0px 1px 3px 1px rgba(60, 64, 67, 0.15);\n",
              "      fill: #174EA6;\n",
              "    }\n",
              "\n",
              "    .colab-df-buttons div {\n",
              "      margin-bottom: 4px;\n",
              "    }\n",
              "\n",
              "    [theme=dark] .colab-df-convert {\n",
              "      background-color: #3B4455;\n",
              "      fill: #D2E3FC;\n",
              "    }\n",
              "\n",
              "    [theme=dark] .colab-df-convert:hover {\n",
              "      background-color: #434B5C;\n",
              "      box-shadow: 0px 1px 3px 1px rgba(0, 0, 0, 0.15);\n",
              "      filter: drop-shadow(0px 1px 2px rgba(0, 0, 0, 0.3));\n",
              "      fill: #FFFFFF;\n",
              "    }\n",
              "  </style>\n",
              "\n",
              "    <script>\n",
              "      const buttonEl =\n",
              "        document.querySelector('#df-c0be1b25-c48e-4e84-b729-2f9a53493026 button.colab-df-convert');\n",
              "      buttonEl.style.display =\n",
              "        google.colab.kernel.accessAllowed ? 'block' : 'none';\n",
              "\n",
              "      async function convertToInteractive(key) {\n",
              "        const element = document.querySelector('#df-c0be1b25-c48e-4e84-b729-2f9a53493026');\n",
              "        const dataTable =\n",
              "          await google.colab.kernel.invokeFunction('convertToInteractive',\n",
              "                                                    [key], {});\n",
              "        if (!dataTable) return;\n",
              "\n",
              "        const docLinkHtml = 'Like what you see? Visit the ' +\n",
              "          '<a target=\"_blank\" href=https://colab.research.google.com/notebooks/data_table.ipynb>data table notebook</a>'\n",
              "          + ' to learn more about interactive tables.';\n",
              "        element.innerHTML = '';\n",
              "        dataTable['output_type'] = 'display_data';\n",
              "        await google.colab.output.renderOutput(dataTable, element);\n",
              "        const docLink = document.createElement('div');\n",
              "        docLink.innerHTML = docLinkHtml;\n",
              "        element.appendChild(docLink);\n",
              "      }\n",
              "    </script>\n",
              "  </div>\n",
              "\n",
              "\n",
              "<div id=\"df-117583c3-ad1a-4896-a0ed-f6438a7fd15e\">\n",
              "  <button class=\"colab-df-quickchart\" onclick=\"quickchart('df-117583c3-ad1a-4896-a0ed-f6438a7fd15e')\"\n",
              "            title=\"Suggest charts\"\n",
              "            style=\"display:none;\">\n",
              "\n",
              "<svg xmlns=\"http://www.w3.org/2000/svg\" height=\"24px\"viewBox=\"0 0 24 24\"\n",
              "     width=\"24px\">\n",
              "    <g>\n",
              "        <path d=\"M19 3H5c-1.1 0-2 .9-2 2v14c0 1.1.9 2 2 2h14c1.1 0 2-.9 2-2V5c0-1.1-.9-2-2-2zM9 17H7v-7h2v7zm4 0h-2V7h2v10zm4 0h-2v-4h2v4z\"/>\n",
              "    </g>\n",
              "</svg>\n",
              "  </button>\n",
              "\n",
              "<style>\n",
              "  .colab-df-quickchart {\n",
              "      --bg-color: #E8F0FE;\n",
              "      --fill-color: #1967D2;\n",
              "      --hover-bg-color: #E2EBFA;\n",
              "      --hover-fill-color: #174EA6;\n",
              "      --disabled-fill-color: #AAA;\n",
              "      --disabled-bg-color: #DDD;\n",
              "  }\n",
              "\n",
              "  [theme=dark] .colab-df-quickchart {\n",
              "      --bg-color: #3B4455;\n",
              "      --fill-color: #D2E3FC;\n",
              "      --hover-bg-color: #434B5C;\n",
              "      --hover-fill-color: #FFFFFF;\n",
              "      --disabled-bg-color: #3B4455;\n",
              "      --disabled-fill-color: #666;\n",
              "  }\n",
              "\n",
              "  .colab-df-quickchart {\n",
              "    background-color: var(--bg-color);\n",
              "    border: none;\n",
              "    border-radius: 50%;\n",
              "    cursor: pointer;\n",
              "    display: none;\n",
              "    fill: var(--fill-color);\n",
              "    height: 32px;\n",
              "    padding: 0;\n",
              "    width: 32px;\n",
              "  }\n",
              "\n",
              "  .colab-df-quickchart:hover {\n",
              "    background-color: var(--hover-bg-color);\n",
              "    box-shadow: 0 1px 2px rgba(60, 64, 67, 0.3), 0 1px 3px 1px rgba(60, 64, 67, 0.15);\n",
              "    fill: var(--button-hover-fill-color);\n",
              "  }\n",
              "\n",
              "  .colab-df-quickchart-complete:disabled,\n",
              "  .colab-df-quickchart-complete:disabled:hover {\n",
              "    background-color: var(--disabled-bg-color);\n",
              "    fill: var(--disabled-fill-color);\n",
              "    box-shadow: none;\n",
              "  }\n",
              "\n",
              "  .colab-df-spinner {\n",
              "    border: 2px solid var(--fill-color);\n",
              "    border-color: transparent;\n",
              "    border-bottom-color: var(--fill-color);\n",
              "    animation:\n",
              "      spin 1s steps(1) infinite;\n",
              "  }\n",
              "\n",
              "  @keyframes spin {\n",
              "    0% {\n",
              "      border-color: transparent;\n",
              "      border-bottom-color: var(--fill-color);\n",
              "      border-left-color: var(--fill-color);\n",
              "    }\n",
              "    20% {\n",
              "      border-color: transparent;\n",
              "      border-left-color: var(--fill-color);\n",
              "      border-top-color: var(--fill-color);\n",
              "    }\n",
              "    30% {\n",
              "      border-color: transparent;\n",
              "      border-left-color: var(--fill-color);\n",
              "      border-top-color: var(--fill-color);\n",
              "      border-right-color: var(--fill-color);\n",
              "    }\n",
              "    40% {\n",
              "      border-color: transparent;\n",
              "      border-right-color: var(--fill-color);\n",
              "      border-top-color: var(--fill-color);\n",
              "    }\n",
              "    60% {\n",
              "      border-color: transparent;\n",
              "      border-right-color: var(--fill-color);\n",
              "    }\n",
              "    80% {\n",
              "      border-color: transparent;\n",
              "      border-right-color: var(--fill-color);\n",
              "      border-bottom-color: var(--fill-color);\n",
              "    }\n",
              "    90% {\n",
              "      border-color: transparent;\n",
              "      border-bottom-color: var(--fill-color);\n",
              "    }\n",
              "  }\n",
              "</style>\n",
              "\n",
              "  <script>\n",
              "    async function quickchart(key) {\n",
              "      const quickchartButtonEl =\n",
              "        document.querySelector('#' + key + ' button');\n",
              "      quickchartButtonEl.disabled = true;  // To prevent multiple clicks.\n",
              "      quickchartButtonEl.classList.add('colab-df-spinner');\n",
              "      try {\n",
              "        const charts = await google.colab.kernel.invokeFunction(\n",
              "            'suggestCharts', [key], {});\n",
              "      } catch (error) {\n",
              "        console.error('Error during call to suggestCharts:', error);\n",
              "      }\n",
              "      quickchartButtonEl.classList.remove('colab-df-spinner');\n",
              "      quickchartButtonEl.classList.add('colab-df-quickchart-complete');\n",
              "    }\n",
              "    (() => {\n",
              "      let quickchartButtonEl =\n",
              "        document.querySelector('#df-117583c3-ad1a-4896-a0ed-f6438a7fd15e button');\n",
              "      quickchartButtonEl.style.display =\n",
              "        google.colab.kernel.accessAllowed ? 'block' : 'none';\n",
              "    })();\n",
              "  </script>\n",
              "</div>\n",
              "\n",
              "  <div id=\"id_f917bfdc-9015-4b80-8c19-dfcbfb57e040\">\n",
              "    <style>\n",
              "      .colab-df-generate {\n",
              "        background-color: #E8F0FE;\n",
              "        border: none;\n",
              "        border-radius: 50%;\n",
              "        cursor: pointer;\n",
              "        display: none;\n",
              "        fill: #1967D2;\n",
              "        height: 32px;\n",
              "        padding: 0 0 0 0;\n",
              "        width: 32px;\n",
              "      }\n",
              "\n",
              "      .colab-df-generate:hover {\n",
              "        background-color: #E2EBFA;\n",
              "        box-shadow: 0px 1px 2px rgba(60, 64, 67, 0.3), 0px 1px 3px 1px rgba(60, 64, 67, 0.15);\n",
              "        fill: #174EA6;\n",
              "      }\n",
              "\n",
              "      [theme=dark] .colab-df-generate {\n",
              "        background-color: #3B4455;\n",
              "        fill: #D2E3FC;\n",
              "      }\n",
              "\n",
              "      [theme=dark] .colab-df-generate:hover {\n",
              "        background-color: #434B5C;\n",
              "        box-shadow: 0px 1px 3px 1px rgba(0, 0, 0, 0.15);\n",
              "        filter: drop-shadow(0px 1px 2px rgba(0, 0, 0, 0.3));\n",
              "        fill: #FFFFFF;\n",
              "      }\n",
              "    </style>\n",
              "    <button class=\"colab-df-generate\" onclick=\"generateWithVariable('data')\"\n",
              "            title=\"Generate code using this dataframe.\"\n",
              "            style=\"display:none;\">\n",
              "\n",
              "  <svg xmlns=\"http://www.w3.org/2000/svg\" height=\"24px\"viewBox=\"0 0 24 24\"\n",
              "       width=\"24px\">\n",
              "    <path d=\"M7,19H8.4L18.45,9,17,7.55,7,17.6ZM5,21V16.75L18.45,3.32a2,2,0,0,1,2.83,0l1.4,1.43a1.91,1.91,0,0,1,.58,1.4,1.91,1.91,0,0,1-.58,1.4L9.25,21ZM18.45,9,17,7.55Zm-12,3A5.31,5.31,0,0,0,4.9,8.1,5.31,5.31,0,0,0,1,6.5,5.31,5.31,0,0,0,4.9,4.9,5.31,5.31,0,0,0,6.5,1,5.31,5.31,0,0,0,8.1,4.9,5.31,5.31,0,0,0,12,6.5,5.46,5.46,0,0,0,6.5,12Z\"/>\n",
              "  </svg>\n",
              "    </button>\n",
              "    <script>\n",
              "      (() => {\n",
              "      const buttonEl =\n",
              "        document.querySelector('#id_f917bfdc-9015-4b80-8c19-dfcbfb57e040 button.colab-df-generate');\n",
              "      buttonEl.style.display =\n",
              "        google.colab.kernel.accessAllowed ? 'block' : 'none';\n",
              "\n",
              "      buttonEl.onclick = () => {\n",
              "        google.colab.notebook.generateWithVariable('data');\n",
              "      }\n",
              "      })();\n",
              "    </script>\n",
              "  </div>\n",
              "\n",
              "    </div>\n",
              "  </div>\n"
            ],
            "application/vnd.google.colaboratory.intrinsic+json": {
              "type": "dataframe",
              "variable_name": "data",
              "summary": "{\n  \"name\": \"data\",\n  \"rows\": 30,\n  \"fields\": [\n    {\n      \"column\": \"YearsExperience\",\n      \"properties\": {\n        \"dtype\": \"number\",\n        \"std\": 2.8378881576627184,\n        \"min\": 1.1,\n        \"max\": 10.5,\n        \"num_unique_values\": 28,\n        \"samples\": [\n          3.9,\n          9.6,\n          3.7\n        ],\n        \"semantic_type\": \"\",\n        \"description\": \"\"\n      }\n    },\n    {\n      \"column\": \"Salary\",\n      \"properties\": {\n        \"dtype\": \"number\",\n        \"std\": 27414.4297845823,\n        \"min\": 37731.0,\n        \"max\": 122391.0,\n        \"num_unique_values\": 30,\n        \"samples\": [\n          112635.0,\n          67938.0,\n          113812.0\n        ],\n        \"semantic_type\": \"\",\n        \"description\": \"\"\n      }\n    }\n  ]\n}"
            }
          },
          "metadata": {},
          "execution_count": 4
        }
      ],
      "source": [
        "data"
      ]
    },
    {
      "cell_type": "markdown",
      "metadata": {
        "id": "qC-npuEjgQB9"
      },
      "source": [
        "### 2. Explore the dataset"
      ]
    },
    {
      "cell_type": "markdown",
      "metadata": {
        "id": "Pqrkk9Bfo9FV"
      },
      "source": [
        "**[2.1]** Create a scatter plot with Altair on the dataset"
      ]
    },
    {
      "cell_type": "code",
      "execution_count": null,
      "metadata": {
        "id": "FYWTARp6dEwI"
      },
      "outputs": [],
      "source": [
        "scatter_chart = alt.Chart(data).mark_circle(size=60, color='orange').encode(\n",
        "    x='YearsExperience',\n",
        "    y='Salary'\n",
        ")"
      ]
    },
    {
      "cell_type": "markdown",
      "metadata": {
        "id": "elRM0esRpKj_"
      },
      "source": [
        "**[2.2]** Display the scatter plot"
      ]
    },
    {
      "cell_type": "code",
      "execution_count": null,
      "metadata": {
        "colab": {
          "base_uri": "https://localhost:8080/",
          "height": 363
        },
        "id": "NU7JYXlEaJxP",
        "outputId": "254c00a7-acb2-478b-f788-b3636c0b6823"
      },
      "outputs": [
        {
          "output_type": "execute_result",
          "data": {
            "text/html": [
              "\n",
              "<div id=\"altair-viz-0a26e2053cb24066aa7bda8150debb33\"></div>\n",
              "<script type=\"text/javascript\">\n",
              "  var VEGA_DEBUG = (typeof VEGA_DEBUG == \"undefined\") ? {} : VEGA_DEBUG;\n",
              "  (function(spec, embedOpt){\n",
              "    let outputDiv = document.currentScript.previousElementSibling;\n",
              "    if (outputDiv.id !== \"altair-viz-0a26e2053cb24066aa7bda8150debb33\") {\n",
              "      outputDiv = document.getElementById(\"altair-viz-0a26e2053cb24066aa7bda8150debb33\");\n",
              "    }\n",
              "    const paths = {\n",
              "      \"vega\": \"https://cdn.jsdelivr.net/npm//vega@5?noext\",\n",
              "      \"vega-lib\": \"https://cdn.jsdelivr.net/npm//vega-lib?noext\",\n",
              "      \"vega-lite\": \"https://cdn.jsdelivr.net/npm//vega-lite@4.17.0?noext\",\n",
              "      \"vega-embed\": \"https://cdn.jsdelivr.net/npm//vega-embed@6?noext\",\n",
              "    };\n",
              "\n",
              "    function maybeLoadScript(lib, version) {\n",
              "      var key = `${lib.replace(\"-\", \"\")}_version`;\n",
              "      return (VEGA_DEBUG[key] == version) ?\n",
              "        Promise.resolve(paths[lib]) :\n",
              "        new Promise(function(resolve, reject) {\n",
              "          var s = document.createElement('script');\n",
              "          document.getElementsByTagName(\"head\")[0].appendChild(s);\n",
              "          s.async = true;\n",
              "          s.onload = () => {\n",
              "            VEGA_DEBUG[key] = version;\n",
              "            return resolve(paths[lib]);\n",
              "          };\n",
              "          s.onerror = () => reject(`Error loading script: ${paths[lib]}`);\n",
              "          s.src = paths[lib];\n",
              "        });\n",
              "    }\n",
              "\n",
              "    function showError(err) {\n",
              "      outputDiv.innerHTML = `<div class=\"error\" style=\"color:red;\">${err}</div>`;\n",
              "      throw err;\n",
              "    }\n",
              "\n",
              "    function displayChart(vegaEmbed) {\n",
              "      vegaEmbed(outputDiv, spec, embedOpt)\n",
              "        .catch(err => showError(`Javascript Error: ${err.message}<br>This usually means there's a typo in your chart specification. See the javascript console for the full traceback.`));\n",
              "    }\n",
              "\n",
              "    if(typeof define === \"function\" && define.amd) {\n",
              "      requirejs.config({paths});\n",
              "      require([\"vega-embed\"], displayChart, err => showError(`Error loading script: ${err.message}`));\n",
              "    } else {\n",
              "      maybeLoadScript(\"vega\", \"5\")\n",
              "        .then(() => maybeLoadScript(\"vega-lite\", \"4.17.0\"))\n",
              "        .then(() => maybeLoadScript(\"vega-embed\", \"6\"))\n",
              "        .catch(showError)\n",
              "        .then(() => displayChart(vegaEmbed));\n",
              "    }\n",
              "  })({\"config\": {\"view\": {\"continuousWidth\": 400, \"continuousHeight\": 300}}, \"data\": {\"name\": \"data-09773d8f115bcdd7976eced50e1ebdda\"}, \"mark\": {\"type\": \"circle\", \"color\": \"orange\", \"size\": 60}, \"encoding\": {\"x\": {\"field\": \"YearsExperience\", \"type\": \"quantitative\"}, \"y\": {\"field\": \"Salary\", \"type\": \"quantitative\"}}, \"$schema\": \"https://vega.github.io/schema/vega-lite/v4.17.0.json\", \"datasets\": {\"data-09773d8f115bcdd7976eced50e1ebdda\": [{\"YearsExperience\": 1.1, \"Salary\": 39343.0}, {\"YearsExperience\": 1.3, \"Salary\": 46205.0}, {\"YearsExperience\": 1.5, \"Salary\": 37731.0}, {\"YearsExperience\": 2.0, \"Salary\": 43525.0}, {\"YearsExperience\": 2.2, \"Salary\": 39891.0}, {\"YearsExperience\": 2.9, \"Salary\": 56642.0}, {\"YearsExperience\": 3.0, \"Salary\": 60150.0}, {\"YearsExperience\": 3.2, \"Salary\": 54445.0}, {\"YearsExperience\": 3.2, \"Salary\": 64445.0}, {\"YearsExperience\": 3.7, \"Salary\": 57189.0}, {\"YearsExperience\": 3.9, \"Salary\": 63218.0}, {\"YearsExperience\": 4.0, \"Salary\": 55794.0}, {\"YearsExperience\": 4.0, \"Salary\": 56957.0}, {\"YearsExperience\": 4.1, \"Salary\": 57081.0}, {\"YearsExperience\": 4.5, \"Salary\": 61111.0}, {\"YearsExperience\": 4.9, \"Salary\": 67938.0}, {\"YearsExperience\": 5.1, \"Salary\": 66029.0}, {\"YearsExperience\": 5.3, \"Salary\": 83088.0}, {\"YearsExperience\": 5.9, \"Salary\": 81363.0}, {\"YearsExperience\": 6.0, \"Salary\": 93940.0}, {\"YearsExperience\": 6.8, \"Salary\": 91738.0}, {\"YearsExperience\": 7.1, \"Salary\": 98273.0}, {\"YearsExperience\": 7.9, \"Salary\": 101302.0}, {\"YearsExperience\": 8.2, \"Salary\": 113812.0}, {\"YearsExperience\": 8.7, \"Salary\": 109431.0}, {\"YearsExperience\": 9.0, \"Salary\": 105582.0}, {\"YearsExperience\": 9.5, \"Salary\": 116969.0}, {\"YearsExperience\": 9.6, \"Salary\": 112635.0}, {\"YearsExperience\": 10.3, \"Salary\": 122391.0}, {\"YearsExperience\": 10.5, \"Salary\": 121872.0}]}}, {\"mode\": \"vega-lite\"});\n",
              "</script>"
            ],
            "text/plain": [
              "alt.Chart(...)"
            ]
          },
          "metadata": {},
          "execution_count": 6
        }
      ],
      "source": [
        "scatter_chart"
      ]
    },
    {
      "cell_type": "markdown",
      "metadata": {
        "id": "R_Dk8iWbgaMl"
      },
      "source": [
        "### 3. Make Predictions with Default Parameters for a Linear Regression"
      ]
    },
    {
      "cell_type": "markdown",
      "metadata": {
        "id": "C8ZLuyXSpcsG"
      },
      "source": [
        "**[3.1]** Extract the target and feature into 2 separate variables `x` and `y`"
      ]
    },
    {
      "cell_type": "code",
      "execution_count": null,
      "metadata": {
        "id": "K_RV4-sWaJuT"
      },
      "outputs": [],
      "source": [
        "x = data['YearsExperience'].values\n",
        "y = data['Salary'].values"
      ]
    },
    {
      "cell_type": "markdown",
      "metadata": {
        "id": "OoZFiqIhprGQ"
      },
      "source": [
        "**[3.2]** Create 2 variables called `a` and `b` that will take the value 0"
      ]
    },
    {
      "cell_type": "code",
      "execution_count": null,
      "metadata": {
        "id": "WDIIa7jOpwDj"
      },
      "outputs": [],
      "source": [
        "a = 0\n",
        "b = 0"
      ]
    },
    {
      "cell_type": "markdown",
      "metadata": {
        "id": "cCbsYJ3Vp-sO"
      },
      "source": [
        "**[3.3]** Create a variable called `y_hat` that will calculate the result of `a * x + b` (univariate linear regression)"
      ]
    },
    {
      "cell_type": "code",
      "execution_count": null,
      "metadata": {
        "id": "TaFWh7jOpuAp"
      },
      "outputs": [],
      "source": [
        "y_hat = a * x + b"
      ]
    },
    {
      "cell_type": "markdown",
      "metadata": {
        "id": "YOYD8ydTTx_J"
      },
      "source": [
        "**[3.4]** Create a dataframe called `preds` that will contain the values of `x` and `y_hat` with the respective columns names: `x` and `y`"
      ]
    },
    {
      "cell_type": "code",
      "execution_count": null,
      "metadata": {
        "id": "QMshxzAdTx_J"
      },
      "outputs": [],
      "source": [
        "preds = {'x': x,\n",
        "         'y': y_hat}\n",
        "\n",
        "preds = pd.DataFrame(preds)"
      ]
    },
    {
      "cell_type": "markdown",
      "metadata": {
        "id": "jLXt25HhTx_J"
      },
      "source": [
        "**[3.5]** Display the content of `preds`"
      ]
    },
    {
      "cell_type": "code",
      "execution_count": null,
      "metadata": {
        "id": "fRw1U_CLTx_J",
        "outputId": "44f512f3-beb0-4973-9e51-77ab296fd1cc",
        "colab": {
          "base_uri": "https://localhost:8080/",
          "height": 990
        }
      },
      "outputs": [
        {
          "output_type": "execute_result",
          "data": {
            "text/plain": [
              "       x    y\n",
              "0    1.1  0.0\n",
              "1    1.3  0.0\n",
              "2    1.5  0.0\n",
              "3    2.0  0.0\n",
              "4    2.2  0.0\n",
              "5    2.9  0.0\n",
              "6    3.0  0.0\n",
              "7    3.2  0.0\n",
              "8    3.2  0.0\n",
              "9    3.7  0.0\n",
              "10   3.9  0.0\n",
              "11   4.0  0.0\n",
              "12   4.0  0.0\n",
              "13   4.1  0.0\n",
              "14   4.5  0.0\n",
              "15   4.9  0.0\n",
              "16   5.1  0.0\n",
              "17   5.3  0.0\n",
              "18   5.9  0.0\n",
              "19   6.0  0.0\n",
              "20   6.8  0.0\n",
              "21   7.1  0.0\n",
              "22   7.9  0.0\n",
              "23   8.2  0.0\n",
              "24   8.7  0.0\n",
              "25   9.0  0.0\n",
              "26   9.5  0.0\n",
              "27   9.6  0.0\n",
              "28  10.3  0.0\n",
              "29  10.5  0.0"
            ],
            "text/html": [
              "\n",
              "  <div id=\"df-3b9e0963-67d1-4469-a0eb-a5c45630f5f8\" class=\"colab-df-container\">\n",
              "    <div>\n",
              "<style scoped>\n",
              "    .dataframe tbody tr th:only-of-type {\n",
              "        vertical-align: middle;\n",
              "    }\n",
              "\n",
              "    .dataframe tbody tr th {\n",
              "        vertical-align: top;\n",
              "    }\n",
              "\n",
              "    .dataframe thead th {\n",
              "        text-align: right;\n",
              "    }\n",
              "</style>\n",
              "<table border=\"1\" class=\"dataframe\">\n",
              "  <thead>\n",
              "    <tr style=\"text-align: right;\">\n",
              "      <th></th>\n",
              "      <th>x</th>\n",
              "      <th>y</th>\n",
              "    </tr>\n",
              "  </thead>\n",
              "  <tbody>\n",
              "    <tr>\n",
              "      <th>0</th>\n",
              "      <td>1.1</td>\n",
              "      <td>0.0</td>\n",
              "    </tr>\n",
              "    <tr>\n",
              "      <th>1</th>\n",
              "      <td>1.3</td>\n",
              "      <td>0.0</td>\n",
              "    </tr>\n",
              "    <tr>\n",
              "      <th>2</th>\n",
              "      <td>1.5</td>\n",
              "      <td>0.0</td>\n",
              "    </tr>\n",
              "    <tr>\n",
              "      <th>3</th>\n",
              "      <td>2.0</td>\n",
              "      <td>0.0</td>\n",
              "    </tr>\n",
              "    <tr>\n",
              "      <th>4</th>\n",
              "      <td>2.2</td>\n",
              "      <td>0.0</td>\n",
              "    </tr>\n",
              "    <tr>\n",
              "      <th>5</th>\n",
              "      <td>2.9</td>\n",
              "      <td>0.0</td>\n",
              "    </tr>\n",
              "    <tr>\n",
              "      <th>6</th>\n",
              "      <td>3.0</td>\n",
              "      <td>0.0</td>\n",
              "    </tr>\n",
              "    <tr>\n",
              "      <th>7</th>\n",
              "      <td>3.2</td>\n",
              "      <td>0.0</td>\n",
              "    </tr>\n",
              "    <tr>\n",
              "      <th>8</th>\n",
              "      <td>3.2</td>\n",
              "      <td>0.0</td>\n",
              "    </tr>\n",
              "    <tr>\n",
              "      <th>9</th>\n",
              "      <td>3.7</td>\n",
              "      <td>0.0</td>\n",
              "    </tr>\n",
              "    <tr>\n",
              "      <th>10</th>\n",
              "      <td>3.9</td>\n",
              "      <td>0.0</td>\n",
              "    </tr>\n",
              "    <tr>\n",
              "      <th>11</th>\n",
              "      <td>4.0</td>\n",
              "      <td>0.0</td>\n",
              "    </tr>\n",
              "    <tr>\n",
              "      <th>12</th>\n",
              "      <td>4.0</td>\n",
              "      <td>0.0</td>\n",
              "    </tr>\n",
              "    <tr>\n",
              "      <th>13</th>\n",
              "      <td>4.1</td>\n",
              "      <td>0.0</td>\n",
              "    </tr>\n",
              "    <tr>\n",
              "      <th>14</th>\n",
              "      <td>4.5</td>\n",
              "      <td>0.0</td>\n",
              "    </tr>\n",
              "    <tr>\n",
              "      <th>15</th>\n",
              "      <td>4.9</td>\n",
              "      <td>0.0</td>\n",
              "    </tr>\n",
              "    <tr>\n",
              "      <th>16</th>\n",
              "      <td>5.1</td>\n",
              "      <td>0.0</td>\n",
              "    </tr>\n",
              "    <tr>\n",
              "      <th>17</th>\n",
              "      <td>5.3</td>\n",
              "      <td>0.0</td>\n",
              "    </tr>\n",
              "    <tr>\n",
              "      <th>18</th>\n",
              "      <td>5.9</td>\n",
              "      <td>0.0</td>\n",
              "    </tr>\n",
              "    <tr>\n",
              "      <th>19</th>\n",
              "      <td>6.0</td>\n",
              "      <td>0.0</td>\n",
              "    </tr>\n",
              "    <tr>\n",
              "      <th>20</th>\n",
              "      <td>6.8</td>\n",
              "      <td>0.0</td>\n",
              "    </tr>\n",
              "    <tr>\n",
              "      <th>21</th>\n",
              "      <td>7.1</td>\n",
              "      <td>0.0</td>\n",
              "    </tr>\n",
              "    <tr>\n",
              "      <th>22</th>\n",
              "      <td>7.9</td>\n",
              "      <td>0.0</td>\n",
              "    </tr>\n",
              "    <tr>\n",
              "      <th>23</th>\n",
              "      <td>8.2</td>\n",
              "      <td>0.0</td>\n",
              "    </tr>\n",
              "    <tr>\n",
              "      <th>24</th>\n",
              "      <td>8.7</td>\n",
              "      <td>0.0</td>\n",
              "    </tr>\n",
              "    <tr>\n",
              "      <th>25</th>\n",
              "      <td>9.0</td>\n",
              "      <td>0.0</td>\n",
              "    </tr>\n",
              "    <tr>\n",
              "      <th>26</th>\n",
              "      <td>9.5</td>\n",
              "      <td>0.0</td>\n",
              "    </tr>\n",
              "    <tr>\n",
              "      <th>27</th>\n",
              "      <td>9.6</td>\n",
              "      <td>0.0</td>\n",
              "    </tr>\n",
              "    <tr>\n",
              "      <th>28</th>\n",
              "      <td>10.3</td>\n",
              "      <td>0.0</td>\n",
              "    </tr>\n",
              "    <tr>\n",
              "      <th>29</th>\n",
              "      <td>10.5</td>\n",
              "      <td>0.0</td>\n",
              "    </tr>\n",
              "  </tbody>\n",
              "</table>\n",
              "</div>\n",
              "    <div class=\"colab-df-buttons\">\n",
              "\n",
              "  <div class=\"colab-df-container\">\n",
              "    <button class=\"colab-df-convert\" onclick=\"convertToInteractive('df-3b9e0963-67d1-4469-a0eb-a5c45630f5f8')\"\n",
              "            title=\"Convert this dataframe to an interactive table.\"\n",
              "            style=\"display:none;\">\n",
              "\n",
              "  <svg xmlns=\"http://www.w3.org/2000/svg\" height=\"24px\" viewBox=\"0 -960 960 960\">\n",
              "    <path d=\"M120-120v-720h720v720H120Zm60-500h600v-160H180v160Zm220 220h160v-160H400v160Zm0 220h160v-160H400v160ZM180-400h160v-160H180v160Zm440 0h160v-160H620v160ZM180-180h160v-160H180v160Zm440 0h160v-160H620v160Z\"/>\n",
              "  </svg>\n",
              "    </button>\n",
              "\n",
              "  <style>\n",
              "    .colab-df-container {\n",
              "      display:flex;\n",
              "      gap: 12px;\n",
              "    }\n",
              "\n",
              "    .colab-df-convert {\n",
              "      background-color: #E8F0FE;\n",
              "      border: none;\n",
              "      border-radius: 50%;\n",
              "      cursor: pointer;\n",
              "      display: none;\n",
              "      fill: #1967D2;\n",
              "      height: 32px;\n",
              "      padding: 0 0 0 0;\n",
              "      width: 32px;\n",
              "    }\n",
              "\n",
              "    .colab-df-convert:hover {\n",
              "      background-color: #E2EBFA;\n",
              "      box-shadow: 0px 1px 2px rgba(60, 64, 67, 0.3), 0px 1px 3px 1px rgba(60, 64, 67, 0.15);\n",
              "      fill: #174EA6;\n",
              "    }\n",
              "\n",
              "    .colab-df-buttons div {\n",
              "      margin-bottom: 4px;\n",
              "    }\n",
              "\n",
              "    [theme=dark] .colab-df-convert {\n",
              "      background-color: #3B4455;\n",
              "      fill: #D2E3FC;\n",
              "    }\n",
              "\n",
              "    [theme=dark] .colab-df-convert:hover {\n",
              "      background-color: #434B5C;\n",
              "      box-shadow: 0px 1px 3px 1px rgba(0, 0, 0, 0.15);\n",
              "      filter: drop-shadow(0px 1px 2px rgba(0, 0, 0, 0.3));\n",
              "      fill: #FFFFFF;\n",
              "    }\n",
              "  </style>\n",
              "\n",
              "    <script>\n",
              "      const buttonEl =\n",
              "        document.querySelector('#df-3b9e0963-67d1-4469-a0eb-a5c45630f5f8 button.colab-df-convert');\n",
              "      buttonEl.style.display =\n",
              "        google.colab.kernel.accessAllowed ? 'block' : 'none';\n",
              "\n",
              "      async function convertToInteractive(key) {\n",
              "        const element = document.querySelector('#df-3b9e0963-67d1-4469-a0eb-a5c45630f5f8');\n",
              "        const dataTable =\n",
              "          await google.colab.kernel.invokeFunction('convertToInteractive',\n",
              "                                                    [key], {});\n",
              "        if (!dataTable) return;\n",
              "\n",
              "        const docLinkHtml = 'Like what you see? Visit the ' +\n",
              "          '<a target=\"_blank\" href=https://colab.research.google.com/notebooks/data_table.ipynb>data table notebook</a>'\n",
              "          + ' to learn more about interactive tables.';\n",
              "        element.innerHTML = '';\n",
              "        dataTable['output_type'] = 'display_data';\n",
              "        await google.colab.output.renderOutput(dataTable, element);\n",
              "        const docLink = document.createElement('div');\n",
              "        docLink.innerHTML = docLinkHtml;\n",
              "        element.appendChild(docLink);\n",
              "      }\n",
              "    </script>\n",
              "  </div>\n",
              "\n",
              "\n",
              "<div id=\"df-c0bedd4e-6907-47cc-a169-ef0206073925\">\n",
              "  <button class=\"colab-df-quickchart\" onclick=\"quickchart('df-c0bedd4e-6907-47cc-a169-ef0206073925')\"\n",
              "            title=\"Suggest charts\"\n",
              "            style=\"display:none;\">\n",
              "\n",
              "<svg xmlns=\"http://www.w3.org/2000/svg\" height=\"24px\"viewBox=\"0 0 24 24\"\n",
              "     width=\"24px\">\n",
              "    <g>\n",
              "        <path d=\"M19 3H5c-1.1 0-2 .9-2 2v14c0 1.1.9 2 2 2h14c1.1 0 2-.9 2-2V5c0-1.1-.9-2-2-2zM9 17H7v-7h2v7zm4 0h-2V7h2v10zm4 0h-2v-4h2v4z\"/>\n",
              "    </g>\n",
              "</svg>\n",
              "  </button>\n",
              "\n",
              "<style>\n",
              "  .colab-df-quickchart {\n",
              "      --bg-color: #E8F0FE;\n",
              "      --fill-color: #1967D2;\n",
              "      --hover-bg-color: #E2EBFA;\n",
              "      --hover-fill-color: #174EA6;\n",
              "      --disabled-fill-color: #AAA;\n",
              "      --disabled-bg-color: #DDD;\n",
              "  }\n",
              "\n",
              "  [theme=dark] .colab-df-quickchart {\n",
              "      --bg-color: #3B4455;\n",
              "      --fill-color: #D2E3FC;\n",
              "      --hover-bg-color: #434B5C;\n",
              "      --hover-fill-color: #FFFFFF;\n",
              "      --disabled-bg-color: #3B4455;\n",
              "      --disabled-fill-color: #666;\n",
              "  }\n",
              "\n",
              "  .colab-df-quickchart {\n",
              "    background-color: var(--bg-color);\n",
              "    border: none;\n",
              "    border-radius: 50%;\n",
              "    cursor: pointer;\n",
              "    display: none;\n",
              "    fill: var(--fill-color);\n",
              "    height: 32px;\n",
              "    padding: 0;\n",
              "    width: 32px;\n",
              "  }\n",
              "\n",
              "  .colab-df-quickchart:hover {\n",
              "    background-color: var(--hover-bg-color);\n",
              "    box-shadow: 0 1px 2px rgba(60, 64, 67, 0.3), 0 1px 3px 1px rgba(60, 64, 67, 0.15);\n",
              "    fill: var(--button-hover-fill-color);\n",
              "  }\n",
              "\n",
              "  .colab-df-quickchart-complete:disabled,\n",
              "  .colab-df-quickchart-complete:disabled:hover {\n",
              "    background-color: var(--disabled-bg-color);\n",
              "    fill: var(--disabled-fill-color);\n",
              "    box-shadow: none;\n",
              "  }\n",
              "\n",
              "  .colab-df-spinner {\n",
              "    border: 2px solid var(--fill-color);\n",
              "    border-color: transparent;\n",
              "    border-bottom-color: var(--fill-color);\n",
              "    animation:\n",
              "      spin 1s steps(1) infinite;\n",
              "  }\n",
              "\n",
              "  @keyframes spin {\n",
              "    0% {\n",
              "      border-color: transparent;\n",
              "      border-bottom-color: var(--fill-color);\n",
              "      border-left-color: var(--fill-color);\n",
              "    }\n",
              "    20% {\n",
              "      border-color: transparent;\n",
              "      border-left-color: var(--fill-color);\n",
              "      border-top-color: var(--fill-color);\n",
              "    }\n",
              "    30% {\n",
              "      border-color: transparent;\n",
              "      border-left-color: var(--fill-color);\n",
              "      border-top-color: var(--fill-color);\n",
              "      border-right-color: var(--fill-color);\n",
              "    }\n",
              "    40% {\n",
              "      border-color: transparent;\n",
              "      border-right-color: var(--fill-color);\n",
              "      border-top-color: var(--fill-color);\n",
              "    }\n",
              "    60% {\n",
              "      border-color: transparent;\n",
              "      border-right-color: var(--fill-color);\n",
              "    }\n",
              "    80% {\n",
              "      border-color: transparent;\n",
              "      border-right-color: var(--fill-color);\n",
              "      border-bottom-color: var(--fill-color);\n",
              "    }\n",
              "    90% {\n",
              "      border-color: transparent;\n",
              "      border-bottom-color: var(--fill-color);\n",
              "    }\n",
              "  }\n",
              "</style>\n",
              "\n",
              "  <script>\n",
              "    async function quickchart(key) {\n",
              "      const quickchartButtonEl =\n",
              "        document.querySelector('#' + key + ' button');\n",
              "      quickchartButtonEl.disabled = true;  // To prevent multiple clicks.\n",
              "      quickchartButtonEl.classList.add('colab-df-spinner');\n",
              "      try {\n",
              "        const charts = await google.colab.kernel.invokeFunction(\n",
              "            'suggestCharts', [key], {});\n",
              "      } catch (error) {\n",
              "        console.error('Error during call to suggestCharts:', error);\n",
              "      }\n",
              "      quickchartButtonEl.classList.remove('colab-df-spinner');\n",
              "      quickchartButtonEl.classList.add('colab-df-quickchart-complete');\n",
              "    }\n",
              "    (() => {\n",
              "      let quickchartButtonEl =\n",
              "        document.querySelector('#df-c0bedd4e-6907-47cc-a169-ef0206073925 button');\n",
              "      quickchartButtonEl.style.display =\n",
              "        google.colab.kernel.accessAllowed ? 'block' : 'none';\n",
              "    })();\n",
              "  </script>\n",
              "</div>\n",
              "\n",
              "  <div id=\"id_b5949af2-69c2-4047-9bde-7cf12e8c57d3\">\n",
              "    <style>\n",
              "      .colab-df-generate {\n",
              "        background-color: #E8F0FE;\n",
              "        border: none;\n",
              "        border-radius: 50%;\n",
              "        cursor: pointer;\n",
              "        display: none;\n",
              "        fill: #1967D2;\n",
              "        height: 32px;\n",
              "        padding: 0 0 0 0;\n",
              "        width: 32px;\n",
              "      }\n",
              "\n",
              "      .colab-df-generate:hover {\n",
              "        background-color: #E2EBFA;\n",
              "        box-shadow: 0px 1px 2px rgba(60, 64, 67, 0.3), 0px 1px 3px 1px rgba(60, 64, 67, 0.15);\n",
              "        fill: #174EA6;\n",
              "      }\n",
              "\n",
              "      [theme=dark] .colab-df-generate {\n",
              "        background-color: #3B4455;\n",
              "        fill: #D2E3FC;\n",
              "      }\n",
              "\n",
              "      [theme=dark] .colab-df-generate:hover {\n",
              "        background-color: #434B5C;\n",
              "        box-shadow: 0px 1px 3px 1px rgba(0, 0, 0, 0.15);\n",
              "        filter: drop-shadow(0px 1px 2px rgba(0, 0, 0, 0.3));\n",
              "        fill: #FFFFFF;\n",
              "      }\n",
              "    </style>\n",
              "    <button class=\"colab-df-generate\" onclick=\"generateWithVariable('preds')\"\n",
              "            title=\"Generate code using this dataframe.\"\n",
              "            style=\"display:none;\">\n",
              "\n",
              "  <svg xmlns=\"http://www.w3.org/2000/svg\" height=\"24px\"viewBox=\"0 0 24 24\"\n",
              "       width=\"24px\">\n",
              "    <path d=\"M7,19H8.4L18.45,9,17,7.55,7,17.6ZM5,21V16.75L18.45,3.32a2,2,0,0,1,2.83,0l1.4,1.43a1.91,1.91,0,0,1,.58,1.4,1.91,1.91,0,0,1-.58,1.4L9.25,21ZM18.45,9,17,7.55Zm-12,3A5.31,5.31,0,0,0,4.9,8.1,5.31,5.31,0,0,0,1,6.5,5.31,5.31,0,0,0,4.9,4.9,5.31,5.31,0,0,0,6.5,1,5.31,5.31,0,0,0,8.1,4.9,5.31,5.31,0,0,0,12,6.5,5.46,5.46,0,0,0,6.5,12Z\"/>\n",
              "  </svg>\n",
              "    </button>\n",
              "    <script>\n",
              "      (() => {\n",
              "      const buttonEl =\n",
              "        document.querySelector('#id_b5949af2-69c2-4047-9bde-7cf12e8c57d3 button.colab-df-generate');\n",
              "      buttonEl.style.display =\n",
              "        google.colab.kernel.accessAllowed ? 'block' : 'none';\n",
              "\n",
              "      buttonEl.onclick = () => {\n",
              "        google.colab.notebook.generateWithVariable('preds');\n",
              "      }\n",
              "      })();\n",
              "    </script>\n",
              "  </div>\n",
              "\n",
              "    </div>\n",
              "  </div>\n"
            ],
            "application/vnd.google.colaboratory.intrinsic+json": {
              "type": "dataframe",
              "variable_name": "preds",
              "summary": "{\n  \"name\": \"preds\",\n  \"rows\": 30,\n  \"fields\": [\n    {\n      \"column\": \"x\",\n      \"properties\": {\n        \"dtype\": \"number\",\n        \"std\": 2.8378881576627184,\n        \"min\": 1.1,\n        \"max\": 10.5,\n        \"num_unique_values\": 28,\n        \"samples\": [\n          3.9,\n          9.6,\n          3.7\n        ],\n        \"semantic_type\": \"\",\n        \"description\": \"\"\n      }\n    },\n    {\n      \"column\": \"y\",\n      \"properties\": {\n        \"dtype\": \"number\",\n        \"std\": 0.0,\n        \"min\": 0.0,\n        \"max\": 0.0,\n        \"num_unique_values\": 1,\n        \"samples\": [\n          0.0\n        ],\n        \"semantic_type\": \"\",\n        \"description\": \"\"\n      }\n    }\n  ]\n}"
            }
          },
          "metadata": {},
          "execution_count": 16
        }
      ],
      "source": [
        "preds"
      ]
    },
    {
      "cell_type": "markdown",
      "metadata": {
        "id": "OzngeuMVqtxt"
      },
      "source": [
        "**[3.6]** Create a line chart with `preds`\n"
      ]
    },
    {
      "cell_type": "code",
      "execution_count": null,
      "metadata": {
        "id": "6ov4fEBCdqdx"
      },
      "outputs": [],
      "source": [
        "line_chart = alt.Chart(pd.DataFrame({'x': x, 'y': y_hat})).mark_line().encode(\n",
        "    x='x',\n",
        "    y='y'\n",
        ")"
      ]
    },
    {
      "cell_type": "markdown",
      "metadata": {
        "id": "bvgv5BXWq_GS"
      },
      "source": [
        "**[3.7]** Display the line chart"
      ]
    },
    {
      "cell_type": "code",
      "execution_count": null,
      "metadata": {
        "colab": {
          "base_uri": "https://localhost:8080/",
          "height": 363
        },
        "id": "Q9Cd4IhPd89O",
        "outputId": "e9cec0e4-0638-45eb-d5ac-abcb79f3e1f7"
      },
      "outputs": [
        {
          "output_type": "execute_result",
          "data": {
            "text/html": [
              "\n",
              "<div id=\"altair-viz-5413cccbb8c04ef0b68a64768bdd6537\"></div>\n",
              "<script type=\"text/javascript\">\n",
              "  var VEGA_DEBUG = (typeof VEGA_DEBUG == \"undefined\") ? {} : VEGA_DEBUG;\n",
              "  (function(spec, embedOpt){\n",
              "    let outputDiv = document.currentScript.previousElementSibling;\n",
              "    if (outputDiv.id !== \"altair-viz-5413cccbb8c04ef0b68a64768bdd6537\") {\n",
              "      outputDiv = document.getElementById(\"altair-viz-5413cccbb8c04ef0b68a64768bdd6537\");\n",
              "    }\n",
              "    const paths = {\n",
              "      \"vega\": \"https://cdn.jsdelivr.net/npm//vega@5?noext\",\n",
              "      \"vega-lib\": \"https://cdn.jsdelivr.net/npm//vega-lib?noext\",\n",
              "      \"vega-lite\": \"https://cdn.jsdelivr.net/npm//vega-lite@4.17.0?noext\",\n",
              "      \"vega-embed\": \"https://cdn.jsdelivr.net/npm//vega-embed@6?noext\",\n",
              "    };\n",
              "\n",
              "    function maybeLoadScript(lib, version) {\n",
              "      var key = `${lib.replace(\"-\", \"\")}_version`;\n",
              "      return (VEGA_DEBUG[key] == version) ?\n",
              "        Promise.resolve(paths[lib]) :\n",
              "        new Promise(function(resolve, reject) {\n",
              "          var s = document.createElement('script');\n",
              "          document.getElementsByTagName(\"head\")[0].appendChild(s);\n",
              "          s.async = true;\n",
              "          s.onload = () => {\n",
              "            VEGA_DEBUG[key] = version;\n",
              "            return resolve(paths[lib]);\n",
              "          };\n",
              "          s.onerror = () => reject(`Error loading script: ${paths[lib]}`);\n",
              "          s.src = paths[lib];\n",
              "        });\n",
              "    }\n",
              "\n",
              "    function showError(err) {\n",
              "      outputDiv.innerHTML = `<div class=\"error\" style=\"color:red;\">${err}</div>`;\n",
              "      throw err;\n",
              "    }\n",
              "\n",
              "    function displayChart(vegaEmbed) {\n",
              "      vegaEmbed(outputDiv, spec, embedOpt)\n",
              "        .catch(err => showError(`Javascript Error: ${err.message}<br>This usually means there's a typo in your chart specification. See the javascript console for the full traceback.`));\n",
              "    }\n",
              "\n",
              "    if(typeof define === \"function\" && define.amd) {\n",
              "      requirejs.config({paths});\n",
              "      require([\"vega-embed\"], displayChart, err => showError(`Error loading script: ${err.message}`));\n",
              "    } else {\n",
              "      maybeLoadScript(\"vega\", \"5\")\n",
              "        .then(() => maybeLoadScript(\"vega-lite\", \"4.17.0\"))\n",
              "        .then(() => maybeLoadScript(\"vega-embed\", \"6\"))\n",
              "        .catch(showError)\n",
              "        .then(() => displayChart(vegaEmbed));\n",
              "    }\n",
              "  })({\"config\": {\"view\": {\"continuousWidth\": 400, \"continuousHeight\": 300}}, \"layer\": [{\"data\": {\"name\": \"data-09773d8f115bcdd7976eced50e1ebdda\"}, \"mark\": {\"type\": \"circle\", \"color\": \"orange\", \"size\": 60}, \"encoding\": {\"x\": {\"field\": \"YearsExperience\", \"type\": \"quantitative\"}, \"y\": {\"field\": \"Salary\", \"type\": \"quantitative\"}}}, {\"data\": {\"name\": \"data-8ca56f0410beef59e47cdf245ebc7135\"}, \"mark\": \"line\", \"encoding\": {\"x\": {\"field\": \"x\", \"type\": \"quantitative\"}, \"y\": {\"field\": \"y\", \"type\": \"quantitative\"}}}], \"$schema\": \"https://vega.github.io/schema/vega-lite/v4.17.0.json\", \"datasets\": {\"data-09773d8f115bcdd7976eced50e1ebdda\": [{\"YearsExperience\": 1.1, \"Salary\": 39343.0}, {\"YearsExperience\": 1.3, \"Salary\": 46205.0}, {\"YearsExperience\": 1.5, \"Salary\": 37731.0}, {\"YearsExperience\": 2.0, \"Salary\": 43525.0}, {\"YearsExperience\": 2.2, \"Salary\": 39891.0}, {\"YearsExperience\": 2.9, \"Salary\": 56642.0}, {\"YearsExperience\": 3.0, \"Salary\": 60150.0}, {\"YearsExperience\": 3.2, \"Salary\": 54445.0}, {\"YearsExperience\": 3.2, \"Salary\": 64445.0}, {\"YearsExperience\": 3.7, \"Salary\": 57189.0}, {\"YearsExperience\": 3.9, \"Salary\": 63218.0}, {\"YearsExperience\": 4.0, \"Salary\": 55794.0}, {\"YearsExperience\": 4.0, \"Salary\": 56957.0}, {\"YearsExperience\": 4.1, \"Salary\": 57081.0}, {\"YearsExperience\": 4.5, \"Salary\": 61111.0}, {\"YearsExperience\": 4.9, \"Salary\": 67938.0}, {\"YearsExperience\": 5.1, \"Salary\": 66029.0}, {\"YearsExperience\": 5.3, \"Salary\": 83088.0}, {\"YearsExperience\": 5.9, \"Salary\": 81363.0}, {\"YearsExperience\": 6.0, \"Salary\": 93940.0}, {\"YearsExperience\": 6.8, \"Salary\": 91738.0}, {\"YearsExperience\": 7.1, \"Salary\": 98273.0}, {\"YearsExperience\": 7.9, \"Salary\": 101302.0}, {\"YearsExperience\": 8.2, \"Salary\": 113812.0}, {\"YearsExperience\": 8.7, \"Salary\": 109431.0}, {\"YearsExperience\": 9.0, \"Salary\": 105582.0}, {\"YearsExperience\": 9.5, \"Salary\": 116969.0}, {\"YearsExperience\": 9.6, \"Salary\": 112635.0}, {\"YearsExperience\": 10.3, \"Salary\": 122391.0}, {\"YearsExperience\": 10.5, \"Salary\": 121872.0}], \"data-8ca56f0410beef59e47cdf245ebc7135\": [{\"x\": 1.1, \"y\": 0.0}, {\"x\": 1.3, \"y\": 0.0}, {\"x\": 1.5, \"y\": 0.0}, {\"x\": 2.0, \"y\": 0.0}, {\"x\": 2.2, \"y\": 0.0}, {\"x\": 2.9, \"y\": 0.0}, {\"x\": 3.0, \"y\": 0.0}, {\"x\": 3.2, \"y\": 0.0}, {\"x\": 3.2, \"y\": 0.0}, {\"x\": 3.7, \"y\": 0.0}, {\"x\": 3.9, \"y\": 0.0}, {\"x\": 4.0, \"y\": 0.0}, {\"x\": 4.0, \"y\": 0.0}, {\"x\": 4.1, \"y\": 0.0}, {\"x\": 4.5, \"y\": 0.0}, {\"x\": 4.9, \"y\": 0.0}, {\"x\": 5.1, \"y\": 0.0}, {\"x\": 5.3, \"y\": 0.0}, {\"x\": 5.9, \"y\": 0.0}, {\"x\": 6.0, \"y\": 0.0}, {\"x\": 6.8, \"y\": 0.0}, {\"x\": 7.1, \"y\": 0.0}, {\"x\": 7.9, \"y\": 0.0}, {\"x\": 8.2, \"y\": 0.0}, {\"x\": 8.7, \"y\": 0.0}, {\"x\": 9.0, \"y\": 0.0}, {\"x\": 9.5, \"y\": 0.0}, {\"x\": 9.6, \"y\": 0.0}, {\"x\": 10.3, \"y\": 0.0}, {\"x\": 10.5, \"y\": 0.0}]}}, {\"mode\": \"vega-lite\"});\n",
              "</script>"
            ],
            "text/plain": [
              "alt.LayerChart(...)"
            ]
          },
          "metadata": {},
          "execution_count": 18
        }
      ],
      "source": [
        "scatter_chart + line_chart"
      ]
    },
    {
      "cell_type": "markdown",
      "metadata": {
        "id": "ibOSEoJ7rC3a"
      },
      "source": [
        "**[3.8]** Calculate the difference between the predictions `y_hat` and the actual target values `y`. Save these into a variable called `errors`"
      ]
    },
    {
      "cell_type": "code",
      "execution_count": null,
      "metadata": {
        "id": "p4vuivW-rT8Y"
      },
      "outputs": [],
      "source": [
        "errors= y_hat - y"
      ]
    },
    {
      "cell_type": "markdown",
      "metadata": {
        "id": "SQ3_LFYwrUtq"
      },
      "source": [
        "**[3.9]** Display the content of `errors`"
      ]
    },
    {
      "cell_type": "code",
      "execution_count": null,
      "metadata": {
        "id": "gKaj0EGBrU5F",
        "outputId": "fcbf9dc8-9e69-4976-bbf2-6ff4d41cb107",
        "colab": {
          "base_uri": "https://localhost:8080/"
        }
      },
      "outputs": [
        {
          "output_type": "execute_result",
          "data": {
            "text/plain": [
              "array([ -39343.,  -46205.,  -37731.,  -43525.,  -39891.,  -56642.,\n",
              "        -60150.,  -54445.,  -64445.,  -57189.,  -63218.,  -55794.,\n",
              "        -56957.,  -57081.,  -61111.,  -67938.,  -66029.,  -83088.,\n",
              "        -81363.,  -93940.,  -91738.,  -98273., -101302., -113812.,\n",
              "       -109431., -105582., -116969., -112635., -122391., -121872.])"
            ]
          },
          "metadata": {},
          "execution_count": 26
        }
      ],
      "source": [
        "errors"
      ]
    },
    {
      "cell_type": "markdown",
      "metadata": {
        "id": "ixBxV0uArYGl"
      },
      "source": [
        "**[3.10]** Calculate and display the sum of the difference between the predictions `y_hat` and the actual target values `y`"
      ]
    },
    {
      "cell_type": "code",
      "execution_count": null,
      "metadata": {
        "colab": {
          "base_uri": "https://localhost:8080/"
        },
        "id": "oXZY7papeSKQ",
        "outputId": "70f1dd39-25d5-431a-8131-63b1a1233c69"
      },
      "outputs": [
        {
          "output_type": "execute_result",
          "data": {
            "text/plain": [
              "-2280090.0"
            ]
          },
          "metadata": {},
          "execution_count": 27
        }
      ],
      "source": [
        "sum_error = errors.sum()\n",
        "sum_error"
      ]
    },
    {
      "cell_type": "markdown",
      "metadata": {
        "id": "5FhmUVE9guee"
      },
      "source": [
        "### 4. Update Parameters"
      ]
    },
    {
      "cell_type": "markdown",
      "metadata": {
        "id": "mWA8EUYMzBrB"
      },
      "source": [
        "**[4.1]** Define a reusable function that will create a chart displaying the input data and the predictions and also calculate the sum of errors"
      ]
    },
    {
      "cell_type": "code",
      "execution_count": null,
      "metadata": {
        "id": "ie1MUKx_erQy"
      },
      "outputs": [],
      "source": [
        "def check_parameters(a, b, x, y):\n",
        "  y_hat = a * x + b\n",
        "\n",
        "  source = pd.DataFrame({'x': x, 'y': y})\n",
        "  preds = pd.DataFrame({'x': x, 'y': y_hat})\n",
        "\n",
        "  scatter_chart = alt.Chart(source).mark_circle(size=60, color='orange').encode(\n",
        "    x='x',\n",
        "    y='y'\n",
        "  )\n",
        "\n",
        "  line_chart = alt.Chart(preds).mark_line().encode(\n",
        "    x='x',\n",
        "    y='y'\n",
        "  )\n",
        "\n",
        "  errors = y_hat - y\n",
        "\n",
        "  sum_error = errors.sum()\n",
        "\n",
        "  print(sum_error)\n",
        "\n",
        "  return scatter_chart + line_chart"
      ]
    },
    {
      "cell_type": "markdown",
      "metadata": {
        "id": "szmhr_5fzU8k"
      },
      "source": [
        "**[4.2]** Choose 2 values for the model parameters (a and b) and use the defined function to check the predictions results"
      ]
    },
    {
      "cell_type": "code",
      "execution_count": null,
      "metadata": {
        "id": "OyJ_PG-nzVDZ",
        "outputId": "2c03199b-f30c-4cf3-f0ef-176be625a8d1",
        "colab": {
          "base_uri": "https://localhost:8080/",
          "height": 380
        }
      },
      "outputs": [
        {
          "output_type": "stream",
          "name": "stdout",
          "text": [
            "-2280090.0\n"
          ]
        },
        {
          "output_type": "execute_result",
          "data": {
            "text/html": [
              "\n",
              "<div id=\"altair-viz-b84f505844a4450b95fd1d3373bdbf3e\"></div>\n",
              "<script type=\"text/javascript\">\n",
              "  var VEGA_DEBUG = (typeof VEGA_DEBUG == \"undefined\") ? {} : VEGA_DEBUG;\n",
              "  (function(spec, embedOpt){\n",
              "    let outputDiv = document.currentScript.previousElementSibling;\n",
              "    if (outputDiv.id !== \"altair-viz-b84f505844a4450b95fd1d3373bdbf3e\") {\n",
              "      outputDiv = document.getElementById(\"altair-viz-b84f505844a4450b95fd1d3373bdbf3e\");\n",
              "    }\n",
              "    const paths = {\n",
              "      \"vega\": \"https://cdn.jsdelivr.net/npm//vega@5?noext\",\n",
              "      \"vega-lib\": \"https://cdn.jsdelivr.net/npm//vega-lib?noext\",\n",
              "      \"vega-lite\": \"https://cdn.jsdelivr.net/npm//vega-lite@4.17.0?noext\",\n",
              "      \"vega-embed\": \"https://cdn.jsdelivr.net/npm//vega-embed@6?noext\",\n",
              "    };\n",
              "\n",
              "    function maybeLoadScript(lib, version) {\n",
              "      var key = `${lib.replace(\"-\", \"\")}_version`;\n",
              "      return (VEGA_DEBUG[key] == version) ?\n",
              "        Promise.resolve(paths[lib]) :\n",
              "        new Promise(function(resolve, reject) {\n",
              "          var s = document.createElement('script');\n",
              "          document.getElementsByTagName(\"head\")[0].appendChild(s);\n",
              "          s.async = true;\n",
              "          s.onload = () => {\n",
              "            VEGA_DEBUG[key] = version;\n",
              "            return resolve(paths[lib]);\n",
              "          };\n",
              "          s.onerror = () => reject(`Error loading script: ${paths[lib]}`);\n",
              "          s.src = paths[lib];\n",
              "        });\n",
              "    }\n",
              "\n",
              "    function showError(err) {\n",
              "      outputDiv.innerHTML = `<div class=\"error\" style=\"color:red;\">${err}</div>`;\n",
              "      throw err;\n",
              "    }\n",
              "\n",
              "    function displayChart(vegaEmbed) {\n",
              "      vegaEmbed(outputDiv, spec, embedOpt)\n",
              "        .catch(err => showError(`Javascript Error: ${err.message}<br>This usually means there's a typo in your chart specification. See the javascript console for the full traceback.`));\n",
              "    }\n",
              "\n",
              "    if(typeof define === \"function\" && define.amd) {\n",
              "      requirejs.config({paths});\n",
              "      require([\"vega-embed\"], displayChart, err => showError(`Error loading script: ${err.message}`));\n",
              "    } else {\n",
              "      maybeLoadScript(\"vega\", \"5\")\n",
              "        .then(() => maybeLoadScript(\"vega-lite\", \"4.17.0\"))\n",
              "        .then(() => maybeLoadScript(\"vega-embed\", \"6\"))\n",
              "        .catch(showError)\n",
              "        .then(() => displayChart(vegaEmbed));\n",
              "    }\n",
              "  })({\"config\": {\"view\": {\"continuousWidth\": 400, \"continuousHeight\": 300}}, \"layer\": [{\"data\": {\"name\": \"data-1ee9df97fb10d69c78502e814767ebb8\"}, \"mark\": {\"type\": \"circle\", \"color\": \"orange\", \"size\": 60}, \"encoding\": {\"x\": {\"field\": \"x\", \"type\": \"quantitative\"}, \"y\": {\"field\": \"y\", \"type\": \"quantitative\"}}}, {\"data\": {\"name\": \"data-8ca56f0410beef59e47cdf245ebc7135\"}, \"mark\": \"line\", \"encoding\": {\"x\": {\"field\": \"x\", \"type\": \"quantitative\"}, \"y\": {\"field\": \"y\", \"type\": \"quantitative\"}}}], \"$schema\": \"https://vega.github.io/schema/vega-lite/v4.17.0.json\", \"datasets\": {\"data-1ee9df97fb10d69c78502e814767ebb8\": [{\"x\": 1.1, \"y\": 39343.0}, {\"x\": 1.3, \"y\": 46205.0}, {\"x\": 1.5, \"y\": 37731.0}, {\"x\": 2.0, \"y\": 43525.0}, {\"x\": 2.2, \"y\": 39891.0}, {\"x\": 2.9, \"y\": 56642.0}, {\"x\": 3.0, \"y\": 60150.0}, {\"x\": 3.2, \"y\": 54445.0}, {\"x\": 3.2, \"y\": 64445.0}, {\"x\": 3.7, \"y\": 57189.0}, {\"x\": 3.9, \"y\": 63218.0}, {\"x\": 4.0, \"y\": 55794.0}, {\"x\": 4.0, \"y\": 56957.0}, {\"x\": 4.1, \"y\": 57081.0}, {\"x\": 4.5, \"y\": 61111.0}, {\"x\": 4.9, \"y\": 67938.0}, {\"x\": 5.1, \"y\": 66029.0}, {\"x\": 5.3, \"y\": 83088.0}, {\"x\": 5.9, \"y\": 81363.0}, {\"x\": 6.0, \"y\": 93940.0}, {\"x\": 6.8, \"y\": 91738.0}, {\"x\": 7.1, \"y\": 98273.0}, {\"x\": 7.9, \"y\": 101302.0}, {\"x\": 8.2, \"y\": 113812.0}, {\"x\": 8.7, \"y\": 109431.0}, {\"x\": 9.0, \"y\": 105582.0}, {\"x\": 9.5, \"y\": 116969.0}, {\"x\": 9.6, \"y\": 112635.0}, {\"x\": 10.3, \"y\": 122391.0}, {\"x\": 10.5, \"y\": 121872.0}], \"data-8ca56f0410beef59e47cdf245ebc7135\": [{\"x\": 1.1, \"y\": 0.0}, {\"x\": 1.3, \"y\": 0.0}, {\"x\": 1.5, \"y\": 0.0}, {\"x\": 2.0, \"y\": 0.0}, {\"x\": 2.2, \"y\": 0.0}, {\"x\": 2.9, \"y\": 0.0}, {\"x\": 3.0, \"y\": 0.0}, {\"x\": 3.2, \"y\": 0.0}, {\"x\": 3.2, \"y\": 0.0}, {\"x\": 3.7, \"y\": 0.0}, {\"x\": 3.9, \"y\": 0.0}, {\"x\": 4.0, \"y\": 0.0}, {\"x\": 4.0, \"y\": 0.0}, {\"x\": 4.1, \"y\": 0.0}, {\"x\": 4.5, \"y\": 0.0}, {\"x\": 4.9, \"y\": 0.0}, {\"x\": 5.1, \"y\": 0.0}, {\"x\": 5.3, \"y\": 0.0}, {\"x\": 5.9, \"y\": 0.0}, {\"x\": 6.0, \"y\": 0.0}, {\"x\": 6.8, \"y\": 0.0}, {\"x\": 7.1, \"y\": 0.0}, {\"x\": 7.9, \"y\": 0.0}, {\"x\": 8.2, \"y\": 0.0}, {\"x\": 8.7, \"y\": 0.0}, {\"x\": 9.0, \"y\": 0.0}, {\"x\": 9.5, \"y\": 0.0}, {\"x\": 9.6, \"y\": 0.0}, {\"x\": 10.3, \"y\": 0.0}, {\"x\": 10.5, \"y\": 0.0}]}}, {\"mode\": \"vega-lite\"});\n",
              "</script>"
            ],
            "text/plain": [
              "alt.LayerChart(...)"
            ]
          },
          "metadata": {},
          "execution_count": 29
        }
      ],
      "source": [
        "check_parameters(a,b,x,y)"
      ]
    },
    {
      "cell_type": "markdown",
      "metadata": {
        "id": "7LHcpDmBzz10"
      },
      "source": [
        "**[4.3]** Choose 2 new values for the model parameters (a and b) and use the defined function to check the predictions results"
      ]
    },
    {
      "cell_type": "code",
      "execution_count": null,
      "metadata": {
        "id": "40oWPVhdzy2G",
        "outputId": "52d3efdd-1566-4216-9a24-02ac6ac4f139",
        "colab": {
          "base_uri": "https://localhost:8080/",
          "height": 380
        }
      },
      "outputs": [
        {
          "output_type": "stream",
          "name": "stdout",
          "text": [
            "-2279900.6\n"
          ]
        },
        {
          "output_type": "execute_result",
          "data": {
            "text/html": [
              "\n",
              "<div id=\"altair-viz-135ed33576de4cc699cb853842a924ef\"></div>\n",
              "<script type=\"text/javascript\">\n",
              "  var VEGA_DEBUG = (typeof VEGA_DEBUG == \"undefined\") ? {} : VEGA_DEBUG;\n",
              "  (function(spec, embedOpt){\n",
              "    let outputDiv = document.currentScript.previousElementSibling;\n",
              "    if (outputDiv.id !== \"altair-viz-135ed33576de4cc699cb853842a924ef\") {\n",
              "      outputDiv = document.getElementById(\"altair-viz-135ed33576de4cc699cb853842a924ef\");\n",
              "    }\n",
              "    const paths = {\n",
              "      \"vega\": \"https://cdn.jsdelivr.net/npm//vega@5?noext\",\n",
              "      \"vega-lib\": \"https://cdn.jsdelivr.net/npm//vega-lib?noext\",\n",
              "      \"vega-lite\": \"https://cdn.jsdelivr.net/npm//vega-lite@4.17.0?noext\",\n",
              "      \"vega-embed\": \"https://cdn.jsdelivr.net/npm//vega-embed@6?noext\",\n",
              "    };\n",
              "\n",
              "    function maybeLoadScript(lib, version) {\n",
              "      var key = `${lib.replace(\"-\", \"\")}_version`;\n",
              "      return (VEGA_DEBUG[key] == version) ?\n",
              "        Promise.resolve(paths[lib]) :\n",
              "        new Promise(function(resolve, reject) {\n",
              "          var s = document.createElement('script');\n",
              "          document.getElementsByTagName(\"head\")[0].appendChild(s);\n",
              "          s.async = true;\n",
              "          s.onload = () => {\n",
              "            VEGA_DEBUG[key] = version;\n",
              "            return resolve(paths[lib]);\n",
              "          };\n",
              "          s.onerror = () => reject(`Error loading script: ${paths[lib]}`);\n",
              "          s.src = paths[lib];\n",
              "        });\n",
              "    }\n",
              "\n",
              "    function showError(err) {\n",
              "      outputDiv.innerHTML = `<div class=\"error\" style=\"color:red;\">${err}</div>`;\n",
              "      throw err;\n",
              "    }\n",
              "\n",
              "    function displayChart(vegaEmbed) {\n",
              "      vegaEmbed(outputDiv, spec, embedOpt)\n",
              "        .catch(err => showError(`Javascript Error: ${err.message}<br>This usually means there's a typo in your chart specification. See the javascript console for the full traceback.`));\n",
              "    }\n",
              "\n",
              "    if(typeof define === \"function\" && define.amd) {\n",
              "      requirejs.config({paths});\n",
              "      require([\"vega-embed\"], displayChart, err => showError(`Error loading script: ${err.message}`));\n",
              "    } else {\n",
              "      maybeLoadScript(\"vega\", \"5\")\n",
              "        .then(() => maybeLoadScript(\"vega-lite\", \"4.17.0\"))\n",
              "        .then(() => maybeLoadScript(\"vega-embed\", \"6\"))\n",
              "        .catch(showError)\n",
              "        .then(() => displayChart(vegaEmbed));\n",
              "    }\n",
              "  })({\"config\": {\"view\": {\"continuousWidth\": 400, \"continuousHeight\": 300}}, \"layer\": [{\"data\": {\"name\": \"data-1ee9df97fb10d69c78502e814767ebb8\"}, \"mark\": {\"type\": \"circle\", \"color\": \"orange\", \"size\": 60}, \"encoding\": {\"x\": {\"field\": \"x\", \"type\": \"quantitative\"}, \"y\": {\"field\": \"y\", \"type\": \"quantitative\"}}}, {\"data\": {\"name\": \"data-7953073ae22631bdb17ac3a5e1b3a004\"}, \"mark\": \"line\", \"encoding\": {\"x\": {\"field\": \"x\", \"type\": \"quantitative\"}, \"y\": {\"field\": \"y\", \"type\": \"quantitative\"}}}], \"$schema\": \"https://vega.github.io/schema/vega-lite/v4.17.0.json\", \"datasets\": {\"data-1ee9df97fb10d69c78502e814767ebb8\": [{\"x\": 1.1, \"y\": 39343.0}, {\"x\": 1.3, \"y\": 46205.0}, {\"x\": 1.5, \"y\": 37731.0}, {\"x\": 2.0, \"y\": 43525.0}, {\"x\": 2.2, \"y\": 39891.0}, {\"x\": 2.9, \"y\": 56642.0}, {\"x\": 3.0, \"y\": 60150.0}, {\"x\": 3.2, \"y\": 54445.0}, {\"x\": 3.2, \"y\": 64445.0}, {\"x\": 3.7, \"y\": 57189.0}, {\"x\": 3.9, \"y\": 63218.0}, {\"x\": 4.0, \"y\": 55794.0}, {\"x\": 4.0, \"y\": 56957.0}, {\"x\": 4.1, \"y\": 57081.0}, {\"x\": 4.5, \"y\": 61111.0}, {\"x\": 4.9, \"y\": 67938.0}, {\"x\": 5.1, \"y\": 66029.0}, {\"x\": 5.3, \"y\": 83088.0}, {\"x\": 5.9, \"y\": 81363.0}, {\"x\": 6.0, \"y\": 93940.0}, {\"x\": 6.8, \"y\": 91738.0}, {\"x\": 7.1, \"y\": 98273.0}, {\"x\": 7.9, \"y\": 101302.0}, {\"x\": 8.2, \"y\": 113812.0}, {\"x\": 8.7, \"y\": 109431.0}, {\"x\": 9.0, \"y\": 105582.0}, {\"x\": 9.5, \"y\": 116969.0}, {\"x\": 9.6, \"y\": 112635.0}, {\"x\": 10.3, \"y\": 122391.0}, {\"x\": 10.5, \"y\": 121872.0}], \"data-7953073ae22631bdb17ac3a5e1b3a004\": [{\"x\": 1.1, \"y\": 2.1}, {\"x\": 1.3, \"y\": 2.3}, {\"x\": 1.5, \"y\": 2.5}, {\"x\": 2.0, \"y\": 3.0}, {\"x\": 2.2, \"y\": 3.2}, {\"x\": 2.9, \"y\": 3.9}, {\"x\": 3.0, \"y\": 4.0}, {\"x\": 3.2, \"y\": 4.2}, {\"x\": 3.2, \"y\": 4.2}, {\"x\": 3.7, \"y\": 4.7}, {\"x\": 3.9, \"y\": 4.9}, {\"x\": 4.0, \"y\": 5.0}, {\"x\": 4.0, \"y\": 5.0}, {\"x\": 4.1, \"y\": 5.1}, {\"x\": 4.5, \"y\": 5.5}, {\"x\": 4.9, \"y\": 5.9}, {\"x\": 5.1, \"y\": 6.1}, {\"x\": 5.3, \"y\": 6.3}, {\"x\": 5.9, \"y\": 6.9}, {\"x\": 6.0, \"y\": 7.0}, {\"x\": 6.8, \"y\": 7.8}, {\"x\": 7.1, \"y\": 8.1}, {\"x\": 7.9, \"y\": 8.9}, {\"x\": 8.2, \"y\": 9.2}, {\"x\": 8.7, \"y\": 9.7}, {\"x\": 9.0, \"y\": 10.0}, {\"x\": 9.5, \"y\": 10.5}, {\"x\": 9.6, \"y\": 10.6}, {\"x\": 10.3, \"y\": 11.3}, {\"x\": 10.5, \"y\": 11.5}]}}, {\"mode\": \"vega-lite\"});\n",
              "</script>"
            ],
            "text/plain": [
              "alt.LayerChart(...)"
            ]
          },
          "metadata": {},
          "execution_count": 30
        }
      ],
      "source": [
        "check_parameters(1,1,x,y)"
      ]
    },
    {
      "cell_type": "markdown",
      "metadata": {
        "id": "g3mGzTAEz3e3"
      },
      "source": [
        "**[4.4]** Choose 2 new values for the model parameters (`a` and `b`) and use the defined function to check the predictions results"
      ]
    },
    {
      "cell_type": "code",
      "execution_count": null,
      "metadata": {
        "id": "SvJCpLMWz3mL",
        "outputId": "169163c5-9c19-4a46-adea-0f702bfb5ff7",
        "colab": {
          "base_uri": "https://localhost:8080/",
          "height": 380
        }
      },
      "outputs": [
        {
          "output_type": "stream",
          "name": "stdout",
          "text": [
            "-2278466.0\n"
          ]
        },
        {
          "output_type": "execute_result",
          "data": {
            "text/html": [
              "\n",
              "<div id=\"altair-viz-48d687f125dd462aa600b3344f489a6a\"></div>\n",
              "<script type=\"text/javascript\">\n",
              "  var VEGA_DEBUG = (typeof VEGA_DEBUG == \"undefined\") ? {} : VEGA_DEBUG;\n",
              "  (function(spec, embedOpt){\n",
              "    let outputDiv = document.currentScript.previousElementSibling;\n",
              "    if (outputDiv.id !== \"altair-viz-48d687f125dd462aa600b3344f489a6a\") {\n",
              "      outputDiv = document.getElementById(\"altair-viz-48d687f125dd462aa600b3344f489a6a\");\n",
              "    }\n",
              "    const paths = {\n",
              "      \"vega\": \"https://cdn.jsdelivr.net/npm//vega@5?noext\",\n",
              "      \"vega-lib\": \"https://cdn.jsdelivr.net/npm//vega-lib?noext\",\n",
              "      \"vega-lite\": \"https://cdn.jsdelivr.net/npm//vega-lite@4.17.0?noext\",\n",
              "      \"vega-embed\": \"https://cdn.jsdelivr.net/npm//vega-embed@6?noext\",\n",
              "    };\n",
              "\n",
              "    function maybeLoadScript(lib, version) {\n",
              "      var key = `${lib.replace(\"-\", \"\")}_version`;\n",
              "      return (VEGA_DEBUG[key] == version) ?\n",
              "        Promise.resolve(paths[lib]) :\n",
              "        new Promise(function(resolve, reject) {\n",
              "          var s = document.createElement('script');\n",
              "          document.getElementsByTagName(\"head\")[0].appendChild(s);\n",
              "          s.async = true;\n",
              "          s.onload = () => {\n",
              "            VEGA_DEBUG[key] = version;\n",
              "            return resolve(paths[lib]);\n",
              "          };\n",
              "          s.onerror = () => reject(`Error loading script: ${paths[lib]}`);\n",
              "          s.src = paths[lib];\n",
              "        });\n",
              "    }\n",
              "\n",
              "    function showError(err) {\n",
              "      outputDiv.innerHTML = `<div class=\"error\" style=\"color:red;\">${err}</div>`;\n",
              "      throw err;\n",
              "    }\n",
              "\n",
              "    function displayChart(vegaEmbed) {\n",
              "      vegaEmbed(outputDiv, spec, embedOpt)\n",
              "        .catch(err => showError(`Javascript Error: ${err.message}<br>This usually means there's a typo in your chart specification. See the javascript console for the full traceback.`));\n",
              "    }\n",
              "\n",
              "    if(typeof define === \"function\" && define.amd) {\n",
              "      requirejs.config({paths});\n",
              "      require([\"vega-embed\"], displayChart, err => showError(`Error loading script: ${err.message}`));\n",
              "    } else {\n",
              "      maybeLoadScript(\"vega\", \"5\")\n",
              "        .then(() => maybeLoadScript(\"vega-lite\", \"4.17.0\"))\n",
              "        .then(() => maybeLoadScript(\"vega-embed\", \"6\"))\n",
              "        .catch(showError)\n",
              "        .then(() => displayChart(vegaEmbed));\n",
              "    }\n",
              "  })({\"config\": {\"view\": {\"continuousWidth\": 400, \"continuousHeight\": 300}}, \"layer\": [{\"data\": {\"name\": \"data-1ee9df97fb10d69c78502e814767ebb8\"}, \"mark\": {\"type\": \"circle\", \"color\": \"orange\", \"size\": 60}, \"encoding\": {\"x\": {\"field\": \"x\", \"type\": \"quantitative\"}, \"y\": {\"field\": \"y\", \"type\": \"quantitative\"}}}, {\"data\": {\"name\": \"data-d9b1eec49b1618917ff51a823321de8e\"}, \"mark\": \"line\", \"encoding\": {\"x\": {\"field\": \"x\", \"type\": \"quantitative\"}, \"y\": {\"field\": \"y\", \"type\": \"quantitative\"}}}], \"$schema\": \"https://vega.github.io/schema/vega-lite/v4.17.0.json\", \"datasets\": {\"data-1ee9df97fb10d69c78502e814767ebb8\": [{\"x\": 1.1, \"y\": 39343.0}, {\"x\": 1.3, \"y\": 46205.0}, {\"x\": 1.5, \"y\": 37731.0}, {\"x\": 2.0, \"y\": 43525.0}, {\"x\": 2.2, \"y\": 39891.0}, {\"x\": 2.9, \"y\": 56642.0}, {\"x\": 3.0, \"y\": 60150.0}, {\"x\": 3.2, \"y\": 54445.0}, {\"x\": 3.2, \"y\": 64445.0}, {\"x\": 3.7, \"y\": 57189.0}, {\"x\": 3.9, \"y\": 63218.0}, {\"x\": 4.0, \"y\": 55794.0}, {\"x\": 4.0, \"y\": 56957.0}, {\"x\": 4.1, \"y\": 57081.0}, {\"x\": 4.5, \"y\": 61111.0}, {\"x\": 4.9, \"y\": 67938.0}, {\"x\": 5.1, \"y\": 66029.0}, {\"x\": 5.3, \"y\": 83088.0}, {\"x\": 5.9, \"y\": 81363.0}, {\"x\": 6.0, \"y\": 93940.0}, {\"x\": 6.8, \"y\": 91738.0}, {\"x\": 7.1, \"y\": 98273.0}, {\"x\": 7.9, \"y\": 101302.0}, {\"x\": 8.2, \"y\": 113812.0}, {\"x\": 8.7, \"y\": 109431.0}, {\"x\": 9.0, \"y\": 105582.0}, {\"x\": 9.5, \"y\": 116969.0}, {\"x\": 9.6, \"y\": 112635.0}, {\"x\": 10.3, \"y\": 122391.0}, {\"x\": 10.5, \"y\": 121872.0}], \"data-d9b1eec49b1618917ff51a823321de8e\": [{\"x\": 1.1, \"y\": 12.0}, {\"x\": 1.3, \"y\": 14.0}, {\"x\": 1.5, \"y\": 16.0}, {\"x\": 2.0, \"y\": 21.0}, {\"x\": 2.2, \"y\": 23.0}, {\"x\": 2.9, \"y\": 30.0}, {\"x\": 3.0, \"y\": 31.0}, {\"x\": 3.2, \"y\": 33.0}, {\"x\": 3.2, \"y\": 33.0}, {\"x\": 3.7, \"y\": 38.0}, {\"x\": 3.9, \"y\": 40.0}, {\"x\": 4.0, \"y\": 41.0}, {\"x\": 4.0, \"y\": 41.0}, {\"x\": 4.1, \"y\": 42.0}, {\"x\": 4.5, \"y\": 46.0}, {\"x\": 4.9, \"y\": 50.0}, {\"x\": 5.1, \"y\": 52.0}, {\"x\": 5.3, \"y\": 54.0}, {\"x\": 5.9, \"y\": 60.0}, {\"x\": 6.0, \"y\": 61.0}, {\"x\": 6.8, \"y\": 69.0}, {\"x\": 7.1, \"y\": 72.0}, {\"x\": 7.9, \"y\": 80.0}, {\"x\": 8.2, \"y\": 83.0}, {\"x\": 8.7, \"y\": 88.0}, {\"x\": 9.0, \"y\": 91.0}, {\"x\": 9.5, \"y\": 96.0}, {\"x\": 9.6, \"y\": 97.0}, {\"x\": 10.3, \"y\": 104.0}, {\"x\": 10.5, \"y\": 106.0}]}}, {\"mode\": \"vega-lite\"});\n",
              "</script>"
            ],
            "text/plain": [
              "alt.LayerChart(...)"
            ]
          },
          "metadata": {},
          "execution_count": 31
        }
      ],
      "source": [
        "check_parameters(10,1,x,y)"
      ]
    },
    {
      "cell_type": "markdown",
      "metadata": {
        "id": "HoWLeXFKz_3y"
      },
      "source": [
        "**[4.5]** Choose 2 new values for the model parameters (`a` and `b`) and use the defined function to check the predictions results"
      ]
    },
    {
      "cell_type": "code",
      "execution_count": null,
      "metadata": {
        "id": "hExuyF7n0ADy",
        "outputId": "d0a8e9d3-1e56-413c-a8d0-2a2d9388d222",
        "colab": {
          "base_uri": "https://localhost:8080/",
          "height": 380
        }
      },
      "outputs": [
        {
          "output_type": "stream",
          "name": "stdout",
          "text": [
            "-1061290.0\n"
          ]
        },
        {
          "output_type": "execute_result",
          "data": {
            "text/html": [
              "\n",
              "<div id=\"altair-viz-be4ca11bb9c64cd981ad2ca4b7151939\"></div>\n",
              "<script type=\"text/javascript\">\n",
              "  var VEGA_DEBUG = (typeof VEGA_DEBUG == \"undefined\") ? {} : VEGA_DEBUG;\n",
              "  (function(spec, embedOpt){\n",
              "    let outputDiv = document.currentScript.previousElementSibling;\n",
              "    if (outputDiv.id !== \"altair-viz-be4ca11bb9c64cd981ad2ca4b7151939\") {\n",
              "      outputDiv = document.getElementById(\"altair-viz-be4ca11bb9c64cd981ad2ca4b7151939\");\n",
              "    }\n",
              "    const paths = {\n",
              "      \"vega\": \"https://cdn.jsdelivr.net/npm//vega@5?noext\",\n",
              "      \"vega-lib\": \"https://cdn.jsdelivr.net/npm//vega-lib?noext\",\n",
              "      \"vega-lite\": \"https://cdn.jsdelivr.net/npm//vega-lite@4.17.0?noext\",\n",
              "      \"vega-embed\": \"https://cdn.jsdelivr.net/npm//vega-embed@6?noext\",\n",
              "    };\n",
              "\n",
              "    function maybeLoadScript(lib, version) {\n",
              "      var key = `${lib.replace(\"-\", \"\")}_version`;\n",
              "      return (VEGA_DEBUG[key] == version) ?\n",
              "        Promise.resolve(paths[lib]) :\n",
              "        new Promise(function(resolve, reject) {\n",
              "          var s = document.createElement('script');\n",
              "          document.getElementsByTagName(\"head\")[0].appendChild(s);\n",
              "          s.async = true;\n",
              "          s.onload = () => {\n",
              "            VEGA_DEBUG[key] = version;\n",
              "            return resolve(paths[lib]);\n",
              "          };\n",
              "          s.onerror = () => reject(`Error loading script: ${paths[lib]}`);\n",
              "          s.src = paths[lib];\n",
              "        });\n",
              "    }\n",
              "\n",
              "    function showError(err) {\n",
              "      outputDiv.innerHTML = `<div class=\"error\" style=\"color:red;\">${err}</div>`;\n",
              "      throw err;\n",
              "    }\n",
              "\n",
              "    function displayChart(vegaEmbed) {\n",
              "      vegaEmbed(outputDiv, spec, embedOpt)\n",
              "        .catch(err => showError(`Javascript Error: ${err.message}<br>This usually means there's a typo in your chart specification. See the javascript console for the full traceback.`));\n",
              "    }\n",
              "\n",
              "    if(typeof define === \"function\" && define.amd) {\n",
              "      requirejs.config({paths});\n",
              "      require([\"vega-embed\"], displayChart, err => showError(`Error loading script: ${err.message}`));\n",
              "    } else {\n",
              "      maybeLoadScript(\"vega\", \"5\")\n",
              "        .then(() => maybeLoadScript(\"vega-lite\", \"4.17.0\"))\n",
              "        .then(() => maybeLoadScript(\"vega-embed\", \"6\"))\n",
              "        .catch(showError)\n",
              "        .then(() => displayChart(vegaEmbed));\n",
              "    }\n",
              "  })({\"config\": {\"view\": {\"continuousWidth\": 400, \"continuousHeight\": 300}}, \"layer\": [{\"data\": {\"name\": \"data-1ee9df97fb10d69c78502e814767ebb8\"}, \"mark\": {\"type\": \"circle\", \"color\": \"orange\", \"size\": 60}, \"encoding\": {\"x\": {\"field\": \"x\", \"type\": \"quantitative\"}, \"y\": {\"field\": \"y\", \"type\": \"quantitative\"}}}, {\"data\": {\"name\": \"data-6685946a0a10059aeb0154856ab4b80e\"}, \"mark\": \"line\", \"encoding\": {\"x\": {\"field\": \"x\", \"type\": \"quantitative\"}, \"y\": {\"field\": \"y\", \"type\": \"quantitative\"}}}], \"$schema\": \"https://vega.github.io/schema/vega-lite/v4.17.0.json\", \"datasets\": {\"data-1ee9df97fb10d69c78502e814767ebb8\": [{\"x\": 1.1, \"y\": 39343.0}, {\"x\": 1.3, \"y\": 46205.0}, {\"x\": 1.5, \"y\": 37731.0}, {\"x\": 2.0, \"y\": 43525.0}, {\"x\": 2.2, \"y\": 39891.0}, {\"x\": 2.9, \"y\": 56642.0}, {\"x\": 3.0, \"y\": 60150.0}, {\"x\": 3.2, \"y\": 54445.0}, {\"x\": 3.2, \"y\": 64445.0}, {\"x\": 3.7, \"y\": 57189.0}, {\"x\": 3.9, \"y\": 63218.0}, {\"x\": 4.0, \"y\": 55794.0}, {\"x\": 4.0, \"y\": 56957.0}, {\"x\": 4.1, \"y\": 57081.0}, {\"x\": 4.5, \"y\": 61111.0}, {\"x\": 4.9, \"y\": 67938.0}, {\"x\": 5.1, \"y\": 66029.0}, {\"x\": 5.3, \"y\": 83088.0}, {\"x\": 5.9, \"y\": 81363.0}, {\"x\": 6.0, \"y\": 93940.0}, {\"x\": 6.8, \"y\": 91738.0}, {\"x\": 7.1, \"y\": 98273.0}, {\"x\": 7.9, \"y\": 101302.0}, {\"x\": 8.2, \"y\": 113812.0}, {\"x\": 8.7, \"y\": 109431.0}, {\"x\": 9.0, \"y\": 105582.0}, {\"x\": 9.5, \"y\": 116969.0}, {\"x\": 9.6, \"y\": 112635.0}, {\"x\": 10.3, \"y\": 122391.0}, {\"x\": 10.5, \"y\": 121872.0}], \"data-6685946a0a10059aeb0154856ab4b80e\": [{\"x\": 1.1, \"y\": 32200.0}, {\"x\": 1.3, \"y\": 32600.0}, {\"x\": 1.5, \"y\": 33000.0}, {\"x\": 2.0, \"y\": 34000.0}, {\"x\": 2.2, \"y\": 34400.0}, {\"x\": 2.9, \"y\": 35800.0}, {\"x\": 3.0, \"y\": 36000.0}, {\"x\": 3.2, \"y\": 36400.0}, {\"x\": 3.2, \"y\": 36400.0}, {\"x\": 3.7, \"y\": 37400.0}, {\"x\": 3.9, \"y\": 37800.0}, {\"x\": 4.0, \"y\": 38000.0}, {\"x\": 4.0, \"y\": 38000.0}, {\"x\": 4.1, \"y\": 38200.0}, {\"x\": 4.5, \"y\": 39000.0}, {\"x\": 4.9, \"y\": 39800.0}, {\"x\": 5.1, \"y\": 40200.0}, {\"x\": 5.3, \"y\": 40600.0}, {\"x\": 5.9, \"y\": 41800.0}, {\"x\": 6.0, \"y\": 42000.0}, {\"x\": 6.8, \"y\": 43600.0}, {\"x\": 7.1, \"y\": 44200.0}, {\"x\": 7.9, \"y\": 45800.0}, {\"x\": 8.2, \"y\": 46400.0}, {\"x\": 8.7, \"y\": 47400.0}, {\"x\": 9.0, \"y\": 48000.0}, {\"x\": 9.5, \"y\": 49000.0}, {\"x\": 9.6, \"y\": 49200.0}, {\"x\": 10.3, \"y\": 50600.0}, {\"x\": 10.5, \"y\": 51000.0}]}}, {\"mode\": \"vega-lite\"});\n",
              "</script>"
            ],
            "text/plain": [
              "alt.LayerChart(...)"
            ]
          },
          "metadata": {},
          "execution_count": 32
        }
      ],
      "source": [
        "check_parameters(2000,30000,x,y)"
      ]
    },
    {
      "cell_type": "markdown",
      "metadata": {
        "id": "CjNe5e_N0BlT"
      },
      "source": [
        "**[4.6]** Choose 2 new values for the model parameters (`a` and `b`) and use the defined function to check the predictions results"
      ]
    },
    {
      "cell_type": "code",
      "execution_count": null,
      "metadata": {
        "id": "YtseP3eZ0Bqx",
        "outputId": "5dfeda75-e010-4266-fb9a-f8199240b7c6",
        "colab": {
          "base_uri": "https://localhost:8080/",
          "height": 380
        }
      },
      "outputs": [
        {
          "output_type": "stream",
          "name": "stdout",
          "text": [
            "-433090.0\n"
          ]
        },
        {
          "output_type": "execute_result",
          "data": {
            "text/html": [
              "\n",
              "<div id=\"altair-viz-3aa325402f394425820dbfe0f66c082c\"></div>\n",
              "<script type=\"text/javascript\">\n",
              "  var VEGA_DEBUG = (typeof VEGA_DEBUG == \"undefined\") ? {} : VEGA_DEBUG;\n",
              "  (function(spec, embedOpt){\n",
              "    let outputDiv = document.currentScript.previousElementSibling;\n",
              "    if (outputDiv.id !== \"altair-viz-3aa325402f394425820dbfe0f66c082c\") {\n",
              "      outputDiv = document.getElementById(\"altair-viz-3aa325402f394425820dbfe0f66c082c\");\n",
              "    }\n",
              "    const paths = {\n",
              "      \"vega\": \"https://cdn.jsdelivr.net/npm//vega@5?noext\",\n",
              "      \"vega-lib\": \"https://cdn.jsdelivr.net/npm//vega-lib?noext\",\n",
              "      \"vega-lite\": \"https://cdn.jsdelivr.net/npm//vega-lite@4.17.0?noext\",\n",
              "      \"vega-embed\": \"https://cdn.jsdelivr.net/npm//vega-embed@6?noext\",\n",
              "    };\n",
              "\n",
              "    function maybeLoadScript(lib, version) {\n",
              "      var key = `${lib.replace(\"-\", \"\")}_version`;\n",
              "      return (VEGA_DEBUG[key] == version) ?\n",
              "        Promise.resolve(paths[lib]) :\n",
              "        new Promise(function(resolve, reject) {\n",
              "          var s = document.createElement('script');\n",
              "          document.getElementsByTagName(\"head\")[0].appendChild(s);\n",
              "          s.async = true;\n",
              "          s.onload = () => {\n",
              "            VEGA_DEBUG[key] = version;\n",
              "            return resolve(paths[lib]);\n",
              "          };\n",
              "          s.onerror = () => reject(`Error loading script: ${paths[lib]}`);\n",
              "          s.src = paths[lib];\n",
              "        });\n",
              "    }\n",
              "\n",
              "    function showError(err) {\n",
              "      outputDiv.innerHTML = `<div class=\"error\" style=\"color:red;\">${err}</div>`;\n",
              "      throw err;\n",
              "    }\n",
              "\n",
              "    function displayChart(vegaEmbed) {\n",
              "      vegaEmbed(outputDiv, spec, embedOpt)\n",
              "        .catch(err => showError(`Javascript Error: ${err.message}<br>This usually means there's a typo in your chart specification. See the javascript console for the full traceback.`));\n",
              "    }\n",
              "\n",
              "    if(typeof define === \"function\" && define.amd) {\n",
              "      requirejs.config({paths});\n",
              "      require([\"vega-embed\"], displayChart, err => showError(`Error loading script: ${err.message}`));\n",
              "    } else {\n",
              "      maybeLoadScript(\"vega\", \"5\")\n",
              "        .then(() => maybeLoadScript(\"vega-lite\", \"4.17.0\"))\n",
              "        .then(() => maybeLoadScript(\"vega-embed\", \"6\"))\n",
              "        .catch(showError)\n",
              "        .then(() => displayChart(vegaEmbed));\n",
              "    }\n",
              "  })({\"config\": {\"view\": {\"continuousWidth\": 400, \"continuousHeight\": 300}}, \"layer\": [{\"data\": {\"name\": \"data-1ee9df97fb10d69c78502e814767ebb8\"}, \"mark\": {\"type\": \"circle\", \"color\": \"orange\", \"size\": 60}, \"encoding\": {\"x\": {\"field\": \"x\", \"type\": \"quantitative\"}, \"y\": {\"field\": \"y\", \"type\": \"quantitative\"}}}, {\"data\": {\"name\": \"data-d22f6cad500d7c326119cfa758e0aa55\"}, \"mark\": \"line\", \"encoding\": {\"x\": {\"field\": \"x\", \"type\": \"quantitative\"}, \"y\": {\"field\": \"y\", \"type\": \"quantitative\"}}}], \"$schema\": \"https://vega.github.io/schema/vega-lite/v4.17.0.json\", \"datasets\": {\"data-1ee9df97fb10d69c78502e814767ebb8\": [{\"x\": 1.1, \"y\": 39343.0}, {\"x\": 1.3, \"y\": 46205.0}, {\"x\": 1.5, \"y\": 37731.0}, {\"x\": 2.0, \"y\": 43525.0}, {\"x\": 2.2, \"y\": 39891.0}, {\"x\": 2.9, \"y\": 56642.0}, {\"x\": 3.0, \"y\": 60150.0}, {\"x\": 3.2, \"y\": 54445.0}, {\"x\": 3.2, \"y\": 64445.0}, {\"x\": 3.7, \"y\": 57189.0}, {\"x\": 3.9, \"y\": 63218.0}, {\"x\": 4.0, \"y\": 55794.0}, {\"x\": 4.0, \"y\": 56957.0}, {\"x\": 4.1, \"y\": 57081.0}, {\"x\": 4.5, \"y\": 61111.0}, {\"x\": 4.9, \"y\": 67938.0}, {\"x\": 5.1, \"y\": 66029.0}, {\"x\": 5.3, \"y\": 83088.0}, {\"x\": 5.9, \"y\": 81363.0}, {\"x\": 6.0, \"y\": 93940.0}, {\"x\": 6.8, \"y\": 91738.0}, {\"x\": 7.1, \"y\": 98273.0}, {\"x\": 7.9, \"y\": 101302.0}, {\"x\": 8.2, \"y\": 113812.0}, {\"x\": 8.7, \"y\": 109431.0}, {\"x\": 9.0, \"y\": 105582.0}, {\"x\": 9.5, \"y\": 116969.0}, {\"x\": 9.6, \"y\": 112635.0}, {\"x\": 10.3, \"y\": 122391.0}, {\"x\": 10.5, \"y\": 121872.0}], \"data-d22f6cad500d7c326119cfa758e0aa55\": [{\"x\": 1.1, \"y\": 40500.0}, {\"x\": 1.3, \"y\": 41500.0}, {\"x\": 1.5, \"y\": 42500.0}, {\"x\": 2.0, \"y\": 45000.0}, {\"x\": 2.2, \"y\": 46000.0}, {\"x\": 2.9, \"y\": 49500.0}, {\"x\": 3.0, \"y\": 50000.0}, {\"x\": 3.2, \"y\": 51000.0}, {\"x\": 3.2, \"y\": 51000.0}, {\"x\": 3.7, \"y\": 53500.0}, {\"x\": 3.9, \"y\": 54500.0}, {\"x\": 4.0, \"y\": 55000.0}, {\"x\": 4.0, \"y\": 55000.0}, {\"x\": 4.1, \"y\": 55500.0}, {\"x\": 4.5, \"y\": 57500.0}, {\"x\": 4.9, \"y\": 59500.0}, {\"x\": 5.1, \"y\": 60500.0}, {\"x\": 5.3, \"y\": 61500.0}, {\"x\": 5.9, \"y\": 64500.0}, {\"x\": 6.0, \"y\": 65000.0}, {\"x\": 6.8, \"y\": 69000.0}, {\"x\": 7.1, \"y\": 70500.0}, {\"x\": 7.9, \"y\": 74500.0}, {\"x\": 8.2, \"y\": 76000.0}, {\"x\": 8.7, \"y\": 78500.0}, {\"x\": 9.0, \"y\": 80000.0}, {\"x\": 9.5, \"y\": 82500.0}, {\"x\": 9.6, \"y\": 83000.0}, {\"x\": 10.3, \"y\": 86500.0}, {\"x\": 10.5, \"y\": 87500.0}]}}, {\"mode\": \"vega-lite\"});\n",
              "</script>"
            ],
            "text/plain": [
              "alt.LayerChart(...)"
            ]
          },
          "metadata": {},
          "execution_count": 33
        }
      ],
      "source": [
        "check_parameters(5000,35000,x,y)"
      ]
    },
    {
      "cell_type": "markdown",
      "metadata": {
        "id": "-at-U2Db0DOo"
      },
      "source": [
        "**[4.7]** Choose 2 new values for the model parameters (`a` and `b`) and use the defined function to check the predictions results"
      ]
    },
    {
      "cell_type": "code",
      "execution_count": null,
      "metadata": {
        "id": "--UDNP2j0DWt",
        "outputId": "7e50db5e-fcb0-4728-a4f4-af7a7e10d4fc",
        "colab": {
          "base_uri": "https://localhost:8080/",
          "height": 385
        }
      },
      "outputs": [
        {
          "output_type": "stream",
          "name": "stdout",
          "text": [
            "1160910.0\n"
          ]
        },
        {
          "output_type": "execute_result",
          "data": {
            "text/html": [
              "\n",
              "<div id=\"altair-viz-69e1d3552b5c4912b7ba7e0d5f20b79e\"></div>\n",
              "<script type=\"text/javascript\">\n",
              "  var VEGA_DEBUG = (typeof VEGA_DEBUG == \"undefined\") ? {} : VEGA_DEBUG;\n",
              "  (function(spec, embedOpt){\n",
              "    let outputDiv = document.currentScript.previousElementSibling;\n",
              "    if (outputDiv.id !== \"altair-viz-69e1d3552b5c4912b7ba7e0d5f20b79e\") {\n",
              "      outputDiv = document.getElementById(\"altair-viz-69e1d3552b5c4912b7ba7e0d5f20b79e\");\n",
              "    }\n",
              "    const paths = {\n",
              "      \"vega\": \"https://cdn.jsdelivr.net/npm//vega@5?noext\",\n",
              "      \"vega-lib\": \"https://cdn.jsdelivr.net/npm//vega-lib?noext\",\n",
              "      \"vega-lite\": \"https://cdn.jsdelivr.net/npm//vega-lite@4.17.0?noext\",\n",
              "      \"vega-embed\": \"https://cdn.jsdelivr.net/npm//vega-embed@6?noext\",\n",
              "    };\n",
              "\n",
              "    function maybeLoadScript(lib, version) {\n",
              "      var key = `${lib.replace(\"-\", \"\")}_version`;\n",
              "      return (VEGA_DEBUG[key] == version) ?\n",
              "        Promise.resolve(paths[lib]) :\n",
              "        new Promise(function(resolve, reject) {\n",
              "          var s = document.createElement('script');\n",
              "          document.getElementsByTagName(\"head\")[0].appendChild(s);\n",
              "          s.async = true;\n",
              "          s.onload = () => {\n",
              "            VEGA_DEBUG[key] = version;\n",
              "            return resolve(paths[lib]);\n",
              "          };\n",
              "          s.onerror = () => reject(`Error loading script: ${paths[lib]}`);\n",
              "          s.src = paths[lib];\n",
              "        });\n",
              "    }\n",
              "\n",
              "    function showError(err) {\n",
              "      outputDiv.innerHTML = `<div class=\"error\" style=\"color:red;\">${err}</div>`;\n",
              "      throw err;\n",
              "    }\n",
              "\n",
              "    function displayChart(vegaEmbed) {\n",
              "      vegaEmbed(outputDiv, spec, embedOpt)\n",
              "        .catch(err => showError(`Javascript Error: ${err.message}<br>This usually means there's a typo in your chart specification. See the javascript console for the full traceback.`));\n",
              "    }\n",
              "\n",
              "    if(typeof define === \"function\" && define.amd) {\n",
              "      requirejs.config({paths});\n",
              "      require([\"vega-embed\"], displayChart, err => showError(`Error loading script: ${err.message}`));\n",
              "    } else {\n",
              "      maybeLoadScript(\"vega\", \"5\")\n",
              "        .then(() => maybeLoadScript(\"vega-lite\", \"4.17.0\"))\n",
              "        .then(() => maybeLoadScript(\"vega-embed\", \"6\"))\n",
              "        .catch(showError)\n",
              "        .then(() => displayChart(vegaEmbed));\n",
              "    }\n",
              "  })({\"config\": {\"view\": {\"continuousWidth\": 400, \"continuousHeight\": 300}}, \"layer\": [{\"data\": {\"name\": \"data-1ee9df97fb10d69c78502e814767ebb8\"}, \"mark\": {\"type\": \"circle\", \"color\": \"orange\", \"size\": 60}, \"encoding\": {\"x\": {\"field\": \"x\", \"type\": \"quantitative\"}, \"y\": {\"field\": \"y\", \"type\": \"quantitative\"}}}, {\"data\": {\"name\": \"data-f53b9885005d83c6380ed8d879b90007\"}, \"mark\": \"line\", \"encoding\": {\"x\": {\"field\": \"x\", \"type\": \"quantitative\"}, \"y\": {\"field\": \"y\", \"type\": \"quantitative\"}}}], \"$schema\": \"https://vega.github.io/schema/vega-lite/v4.17.0.json\", \"datasets\": {\"data-1ee9df97fb10d69c78502e814767ebb8\": [{\"x\": 1.1, \"y\": 39343.0}, {\"x\": 1.3, \"y\": 46205.0}, {\"x\": 1.5, \"y\": 37731.0}, {\"x\": 2.0, \"y\": 43525.0}, {\"x\": 2.2, \"y\": 39891.0}, {\"x\": 2.9, \"y\": 56642.0}, {\"x\": 3.0, \"y\": 60150.0}, {\"x\": 3.2, \"y\": 54445.0}, {\"x\": 3.2, \"y\": 64445.0}, {\"x\": 3.7, \"y\": 57189.0}, {\"x\": 3.9, \"y\": 63218.0}, {\"x\": 4.0, \"y\": 55794.0}, {\"x\": 4.0, \"y\": 56957.0}, {\"x\": 4.1, \"y\": 57081.0}, {\"x\": 4.5, \"y\": 61111.0}, {\"x\": 4.9, \"y\": 67938.0}, {\"x\": 5.1, \"y\": 66029.0}, {\"x\": 5.3, \"y\": 83088.0}, {\"x\": 5.9, \"y\": 81363.0}, {\"x\": 6.0, \"y\": 93940.0}, {\"x\": 6.8, \"y\": 91738.0}, {\"x\": 7.1, \"y\": 98273.0}, {\"x\": 7.9, \"y\": 101302.0}, {\"x\": 8.2, \"y\": 113812.0}, {\"x\": 8.7, \"y\": 109431.0}, {\"x\": 9.0, \"y\": 105582.0}, {\"x\": 9.5, \"y\": 116969.0}, {\"x\": 9.6, \"y\": 112635.0}, {\"x\": 10.3, \"y\": 122391.0}, {\"x\": 10.5, \"y\": 121872.0}], \"data-f53b9885005d83c6380ed8d879b90007\": [{\"x\": 1.1, \"y\": 51500.0}, {\"x\": 1.3, \"y\": 54500.0}, {\"x\": 1.5, \"y\": 57500.0}, {\"x\": 2.0, \"y\": 65000.0}, {\"x\": 2.2, \"y\": 68000.0}, {\"x\": 2.9, \"y\": 78500.0}, {\"x\": 3.0, \"y\": 80000.0}, {\"x\": 3.2, \"y\": 83000.0}, {\"x\": 3.2, \"y\": 83000.0}, {\"x\": 3.7, \"y\": 90500.0}, {\"x\": 3.9, \"y\": 93500.0}, {\"x\": 4.0, \"y\": 95000.0}, {\"x\": 4.0, \"y\": 95000.0}, {\"x\": 4.1, \"y\": 96500.0}, {\"x\": 4.5, \"y\": 102500.0}, {\"x\": 4.9, \"y\": 108500.0}, {\"x\": 5.1, \"y\": 111500.0}, {\"x\": 5.3, \"y\": 114500.0}, {\"x\": 5.9, \"y\": 123500.0}, {\"x\": 6.0, \"y\": 125000.0}, {\"x\": 6.8, \"y\": 137000.0}, {\"x\": 7.1, \"y\": 141500.0}, {\"x\": 7.9, \"y\": 153500.0}, {\"x\": 8.2, \"y\": 158000.0}, {\"x\": 8.7, \"y\": 165500.0}, {\"x\": 9.0, \"y\": 170000.0}, {\"x\": 9.5, \"y\": 177500.0}, {\"x\": 9.6, \"y\": 179000.0}, {\"x\": 10.3, \"y\": 189500.0}, {\"x\": 10.5, \"y\": 192500.0}]}}, {\"mode\": \"vega-lite\"});\n",
              "</script>"
            ],
            "text/plain": [
              "alt.LayerChart(...)"
            ]
          },
          "metadata": {},
          "execution_count": 34
        }
      ],
      "source": [
        "check_parameters(15000,35000,x,y)"
      ]
    },
    {
      "cell_type": "markdown",
      "metadata": {
        "id": "Es_cCGbP0FKK"
      },
      "source": [
        "**[4.8]** Choose 2 new values for the model parameters (`a` and `b`) and use the defined function to check the predictions results"
      ]
    },
    {
      "cell_type": "code",
      "execution_count": null,
      "metadata": {
        "id": "HrC5jXnU0FQb",
        "outputId": "99e2042a-bd3a-4a2c-9b06-2b7bd4789a5e",
        "colab": {
          "base_uri": "https://localhost:8080/",
          "height": 385
        }
      },
      "outputs": [
        {
          "output_type": "stream",
          "name": "stdout",
          "text": [
            "363910.0\n"
          ]
        },
        {
          "output_type": "execute_result",
          "data": {
            "text/html": [
              "\n",
              "<div id=\"altair-viz-3980eccd779c477b84fdb1f2ff082f3a\"></div>\n",
              "<script type=\"text/javascript\">\n",
              "  var VEGA_DEBUG = (typeof VEGA_DEBUG == \"undefined\") ? {} : VEGA_DEBUG;\n",
              "  (function(spec, embedOpt){\n",
              "    let outputDiv = document.currentScript.previousElementSibling;\n",
              "    if (outputDiv.id !== \"altair-viz-3980eccd779c477b84fdb1f2ff082f3a\") {\n",
              "      outputDiv = document.getElementById(\"altair-viz-3980eccd779c477b84fdb1f2ff082f3a\");\n",
              "    }\n",
              "    const paths = {\n",
              "      \"vega\": \"https://cdn.jsdelivr.net/npm//vega@5?noext\",\n",
              "      \"vega-lib\": \"https://cdn.jsdelivr.net/npm//vega-lib?noext\",\n",
              "      \"vega-lite\": \"https://cdn.jsdelivr.net/npm//vega-lite@4.17.0?noext\",\n",
              "      \"vega-embed\": \"https://cdn.jsdelivr.net/npm//vega-embed@6?noext\",\n",
              "    };\n",
              "\n",
              "    function maybeLoadScript(lib, version) {\n",
              "      var key = `${lib.replace(\"-\", \"\")}_version`;\n",
              "      return (VEGA_DEBUG[key] == version) ?\n",
              "        Promise.resolve(paths[lib]) :\n",
              "        new Promise(function(resolve, reject) {\n",
              "          var s = document.createElement('script');\n",
              "          document.getElementsByTagName(\"head\")[0].appendChild(s);\n",
              "          s.async = true;\n",
              "          s.onload = () => {\n",
              "            VEGA_DEBUG[key] = version;\n",
              "            return resolve(paths[lib]);\n",
              "          };\n",
              "          s.onerror = () => reject(`Error loading script: ${paths[lib]}`);\n",
              "          s.src = paths[lib];\n",
              "        });\n",
              "    }\n",
              "\n",
              "    function showError(err) {\n",
              "      outputDiv.innerHTML = `<div class=\"error\" style=\"color:red;\">${err}</div>`;\n",
              "      throw err;\n",
              "    }\n",
              "\n",
              "    function displayChart(vegaEmbed) {\n",
              "      vegaEmbed(outputDiv, spec, embedOpt)\n",
              "        .catch(err => showError(`Javascript Error: ${err.message}<br>This usually means there's a typo in your chart specification. See the javascript console for the full traceback.`));\n",
              "    }\n",
              "\n",
              "    if(typeof define === \"function\" && define.amd) {\n",
              "      requirejs.config({paths});\n",
              "      require([\"vega-embed\"], displayChart, err => showError(`Error loading script: ${err.message}`));\n",
              "    } else {\n",
              "      maybeLoadScript(\"vega\", \"5\")\n",
              "        .then(() => maybeLoadScript(\"vega-lite\", \"4.17.0\"))\n",
              "        .then(() => maybeLoadScript(\"vega-embed\", \"6\"))\n",
              "        .catch(showError)\n",
              "        .then(() => displayChart(vegaEmbed));\n",
              "    }\n",
              "  })({\"config\": {\"view\": {\"continuousWidth\": 400, \"continuousHeight\": 300}}, \"layer\": [{\"data\": {\"name\": \"data-1ee9df97fb10d69c78502e814767ebb8\"}, \"mark\": {\"type\": \"circle\", \"color\": \"orange\", \"size\": 60}, \"encoding\": {\"x\": {\"field\": \"x\", \"type\": \"quantitative\"}, \"y\": {\"field\": \"y\", \"type\": \"quantitative\"}}}, {\"data\": {\"name\": \"data-5fc95b31d058cc76cd076bc96e13d1e5\"}, \"mark\": \"line\", \"encoding\": {\"x\": {\"field\": \"x\", \"type\": \"quantitative\"}, \"y\": {\"field\": \"y\", \"type\": \"quantitative\"}}}], \"$schema\": \"https://vega.github.io/schema/vega-lite/v4.17.0.json\", \"datasets\": {\"data-1ee9df97fb10d69c78502e814767ebb8\": [{\"x\": 1.1, \"y\": 39343.0}, {\"x\": 1.3, \"y\": 46205.0}, {\"x\": 1.5, \"y\": 37731.0}, {\"x\": 2.0, \"y\": 43525.0}, {\"x\": 2.2, \"y\": 39891.0}, {\"x\": 2.9, \"y\": 56642.0}, {\"x\": 3.0, \"y\": 60150.0}, {\"x\": 3.2, \"y\": 54445.0}, {\"x\": 3.2, \"y\": 64445.0}, {\"x\": 3.7, \"y\": 57189.0}, {\"x\": 3.9, \"y\": 63218.0}, {\"x\": 4.0, \"y\": 55794.0}, {\"x\": 4.0, \"y\": 56957.0}, {\"x\": 4.1, \"y\": 57081.0}, {\"x\": 4.5, \"y\": 61111.0}, {\"x\": 4.9, \"y\": 67938.0}, {\"x\": 5.1, \"y\": 66029.0}, {\"x\": 5.3, \"y\": 83088.0}, {\"x\": 5.9, \"y\": 81363.0}, {\"x\": 6.0, \"y\": 93940.0}, {\"x\": 6.8, \"y\": 91738.0}, {\"x\": 7.1, \"y\": 98273.0}, {\"x\": 7.9, \"y\": 101302.0}, {\"x\": 8.2, \"y\": 113812.0}, {\"x\": 8.7, \"y\": 109431.0}, {\"x\": 9.0, \"y\": 105582.0}, {\"x\": 9.5, \"y\": 116969.0}, {\"x\": 9.6, \"y\": 112635.0}, {\"x\": 10.3, \"y\": 122391.0}, {\"x\": 10.5, \"y\": 121872.0}], \"data-5fc95b31d058cc76cd076bc96e13d1e5\": [{\"x\": 1.1, \"y\": 46000.0}, {\"x\": 1.3, \"y\": 48000.0}, {\"x\": 1.5, \"y\": 50000.0}, {\"x\": 2.0, \"y\": 55000.0}, {\"x\": 2.2, \"y\": 57000.0}, {\"x\": 2.9, \"y\": 64000.0}, {\"x\": 3.0, \"y\": 65000.0}, {\"x\": 3.2, \"y\": 67000.0}, {\"x\": 3.2, \"y\": 67000.0}, {\"x\": 3.7, \"y\": 72000.0}, {\"x\": 3.9, \"y\": 74000.0}, {\"x\": 4.0, \"y\": 75000.0}, {\"x\": 4.0, \"y\": 75000.0}, {\"x\": 4.1, \"y\": 76000.0}, {\"x\": 4.5, \"y\": 80000.0}, {\"x\": 4.9, \"y\": 84000.0}, {\"x\": 5.1, \"y\": 86000.0}, {\"x\": 5.3, \"y\": 88000.0}, {\"x\": 5.9, \"y\": 94000.0}, {\"x\": 6.0, \"y\": 95000.0}, {\"x\": 6.8, \"y\": 103000.0}, {\"x\": 7.1, \"y\": 106000.0}, {\"x\": 7.9, \"y\": 114000.0}, {\"x\": 8.2, \"y\": 117000.0}, {\"x\": 8.7, \"y\": 122000.0}, {\"x\": 9.0, \"y\": 125000.0}, {\"x\": 9.5, \"y\": 130000.0}, {\"x\": 9.6, \"y\": 131000.0}, {\"x\": 10.3, \"y\": 138000.0}, {\"x\": 10.5, \"y\": 140000.0}]}}, {\"mode\": \"vega-lite\"});\n",
              "</script>"
            ],
            "text/plain": [
              "alt.LayerChart(...)"
            ]
          },
          "metadata": {},
          "execution_count": 35
        }
      ],
      "source": [
        "check_parameters(10000,35000,x,y)"
      ]
    },
    {
      "cell_type": "markdown",
      "metadata": {
        "id": "ubArzsNmTx_R"
      },
      "source": [
        "**[4.9]** Choose 2 new values for the model parameters (`a` and `b`) and use the defined function to check the predictions results"
      ]
    },
    {
      "cell_type": "code",
      "execution_count": null,
      "metadata": {
        "id": "TAZaWvaRTx_R",
        "outputId": "3fed4805-651a-4983-ab23-246c1be11731",
        "colab": {
          "base_uri": "https://localhost:8080/",
          "height": 380
        }
      },
      "outputs": [
        {
          "output_type": "stream",
          "name": "stdout",
          "text": [
            "-112860.0\n"
          ]
        },
        {
          "output_type": "execute_result",
          "data": {
            "text/html": [
              "\n",
              "<div id=\"altair-viz-c3b0b36c1721406899ed8e04cece6cf9\"></div>\n",
              "<script type=\"text/javascript\">\n",
              "  var VEGA_DEBUG = (typeof VEGA_DEBUG == \"undefined\") ? {} : VEGA_DEBUG;\n",
              "  (function(spec, embedOpt){\n",
              "    let outputDiv = document.currentScript.previousElementSibling;\n",
              "    if (outputDiv.id !== \"altair-viz-c3b0b36c1721406899ed8e04cece6cf9\") {\n",
              "      outputDiv = document.getElementById(\"altair-viz-c3b0b36c1721406899ed8e04cece6cf9\");\n",
              "    }\n",
              "    const paths = {\n",
              "      \"vega\": \"https://cdn.jsdelivr.net/npm//vega@5?noext\",\n",
              "      \"vega-lib\": \"https://cdn.jsdelivr.net/npm//vega-lib?noext\",\n",
              "      \"vega-lite\": \"https://cdn.jsdelivr.net/npm//vega-lite@4.17.0?noext\",\n",
              "      \"vega-embed\": \"https://cdn.jsdelivr.net/npm//vega-embed@6?noext\",\n",
              "    };\n",
              "\n",
              "    function maybeLoadScript(lib, version) {\n",
              "      var key = `${lib.replace(\"-\", \"\")}_version`;\n",
              "      return (VEGA_DEBUG[key] == version) ?\n",
              "        Promise.resolve(paths[lib]) :\n",
              "        new Promise(function(resolve, reject) {\n",
              "          var s = document.createElement('script');\n",
              "          document.getElementsByTagName(\"head\")[0].appendChild(s);\n",
              "          s.async = true;\n",
              "          s.onload = () => {\n",
              "            VEGA_DEBUG[key] = version;\n",
              "            return resolve(paths[lib]);\n",
              "          };\n",
              "          s.onerror = () => reject(`Error loading script: ${paths[lib]}`);\n",
              "          s.src = paths[lib];\n",
              "        });\n",
              "    }\n",
              "\n",
              "    function showError(err) {\n",
              "      outputDiv.innerHTML = `<div class=\"error\" style=\"color:red;\">${err}</div>`;\n",
              "      throw err;\n",
              "    }\n",
              "\n",
              "    function displayChart(vegaEmbed) {\n",
              "      vegaEmbed(outputDiv, spec, embedOpt)\n",
              "        .catch(err => showError(`Javascript Error: ${err.message}<br>This usually means there's a typo in your chart specification. See the javascript console for the full traceback.`));\n",
              "    }\n",
              "\n",
              "    if(typeof define === \"function\" && define.amd) {\n",
              "      requirejs.config({paths});\n",
              "      require([\"vega-embed\"], displayChart, err => showError(`Error loading script: ${err.message}`));\n",
              "    } else {\n",
              "      maybeLoadScript(\"vega\", \"5\")\n",
              "        .then(() => maybeLoadScript(\"vega-lite\", \"4.17.0\"))\n",
              "        .then(() => maybeLoadScript(\"vega-embed\", \"6\"))\n",
              "        .catch(showError)\n",
              "        .then(() => displayChart(vegaEmbed));\n",
              "    }\n",
              "  })({\"config\": {\"view\": {\"continuousWidth\": 400, \"continuousHeight\": 300}}, \"layer\": [{\"data\": {\"name\": \"data-1ee9df97fb10d69c78502e814767ebb8\"}, \"mark\": {\"type\": \"circle\", \"color\": \"orange\", \"size\": 60}, \"encoding\": {\"x\": {\"field\": \"x\", \"type\": \"quantitative\"}, \"y\": {\"field\": \"y\", \"type\": \"quantitative\"}}}, {\"data\": {\"name\": \"data-e6d804239f6a8d6e82f3460c7acdf754\"}, \"mark\": \"line\", \"encoding\": {\"x\": {\"field\": \"x\", \"type\": \"quantitative\"}, \"y\": {\"field\": \"y\", \"type\": \"quantitative\"}}}], \"$schema\": \"https://vega.github.io/schema/vega-lite/v4.17.0.json\", \"datasets\": {\"data-1ee9df97fb10d69c78502e814767ebb8\": [{\"x\": 1.1, \"y\": 39343.0}, {\"x\": 1.3, \"y\": 46205.0}, {\"x\": 1.5, \"y\": 37731.0}, {\"x\": 2.0, \"y\": 43525.0}, {\"x\": 2.2, \"y\": 39891.0}, {\"x\": 2.9, \"y\": 56642.0}, {\"x\": 3.0, \"y\": 60150.0}, {\"x\": 3.2, \"y\": 54445.0}, {\"x\": 3.2, \"y\": 64445.0}, {\"x\": 3.7, \"y\": 57189.0}, {\"x\": 3.9, \"y\": 63218.0}, {\"x\": 4.0, \"y\": 55794.0}, {\"x\": 4.0, \"y\": 56957.0}, {\"x\": 4.1, \"y\": 57081.0}, {\"x\": 4.5, \"y\": 61111.0}, {\"x\": 4.9, \"y\": 67938.0}, {\"x\": 5.1, \"y\": 66029.0}, {\"x\": 5.3, \"y\": 83088.0}, {\"x\": 5.9, \"y\": 81363.0}, {\"x\": 6.0, \"y\": 93940.0}, {\"x\": 6.8, \"y\": 91738.0}, {\"x\": 7.1, \"y\": 98273.0}, {\"x\": 7.9, \"y\": 101302.0}, {\"x\": 8.2, \"y\": 113812.0}, {\"x\": 8.7, \"y\": 109431.0}, {\"x\": 9.0, \"y\": 105582.0}, {\"x\": 9.5, \"y\": 116969.0}, {\"x\": 9.6, \"y\": 112635.0}, {\"x\": 10.3, \"y\": 122391.0}, {\"x\": 10.5, \"y\": 121872.0}], \"data-e6d804239f6a8d6e82f3460c7acdf754\": [{\"x\": 1.1, \"y\": 38745.0}, {\"x\": 1.3, \"y\": 40335.0}, {\"x\": 1.5, \"y\": 41925.0}, {\"x\": 2.0, \"y\": 45900.0}, {\"x\": 2.2, \"y\": 47490.0}, {\"x\": 2.9, \"y\": 53055.0}, {\"x\": 3.0, \"y\": 53850.0}, {\"x\": 3.2, \"y\": 55440.0}, {\"x\": 3.2, \"y\": 55440.0}, {\"x\": 3.7, \"y\": 59415.0}, {\"x\": 3.9, \"y\": 61005.0}, {\"x\": 4.0, \"y\": 61800.0}, {\"x\": 4.0, \"y\": 61800.0}, {\"x\": 4.1, \"y\": 62595.0}, {\"x\": 4.5, \"y\": 65775.0}, {\"x\": 4.9, \"y\": 68955.0}, {\"x\": 5.1, \"y\": 70545.0}, {\"x\": 5.3, \"y\": 72135.0}, {\"x\": 5.9, \"y\": 76905.0}, {\"x\": 6.0, \"y\": 77700.0}, {\"x\": 6.8, \"y\": 84060.0}, {\"x\": 7.1, \"y\": 86445.0}, {\"x\": 7.9, \"y\": 92805.0}, {\"x\": 8.2, \"y\": 95190.0}, {\"x\": 8.7, \"y\": 99165.0}, {\"x\": 9.0, \"y\": 101550.0}, {\"x\": 9.5, \"y\": 105525.0}, {\"x\": 9.6, \"y\": 106320.0}, {\"x\": 10.3, \"y\": 111885.0}, {\"x\": 10.5, \"y\": 113475.0}]}}, {\"mode\": \"vega-lite\"});\n",
              "</script>"
            ],
            "text/plain": [
              "alt.LayerChart(...)"
            ]
          },
          "metadata": {},
          "execution_count": 40
        }
      ],
      "source": [
        "check_parameters(7950,30000,x,y)"
      ]
    },
    {
      "cell_type": "code",
      "source": [],
      "metadata": {
        "id": "3VDZmeNr2s8a"
      },
      "execution_count": null,
      "outputs": []
    }
  ],
  "metadata": {
    "colab": {
      "provenance": [],
      "gpuType": "T4",
      "include_colab_link": true
    },
    "kernelspec": {
      "display_name": "Python 3",
      "name": "python3"
    },
    "language_info": {
      "codemirror_mode": {
        "name": "ipython",
        "version": 3
      },
      "file_extension": ".py",
      "mimetype": "text/x-python",
      "name": "python",
      "nbconvert_exporter": "python",
      "pygments_lexer": "ipython3",
      "version": "3.10.10"
    },
    "accelerator": "GPU"
  },
  "nbformat": 4,
  "nbformat_minor": 0
}